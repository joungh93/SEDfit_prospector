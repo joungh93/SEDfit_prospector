{
 "cells": [
  {
   "cell_type": "markdown",
   "metadata": {},
   "source": [
    "### Importing packages"
   ]
  },
  {
   "cell_type": "code",
   "execution_count": 8,
   "metadata": {},
   "outputs": [],
   "source": [
    "import numpy as np\n",
    "import glob, os\n",
    "from matplotlib import pyplot as plt\n",
    "from matplotlib.patches import Ellipse\n",
    "from astropy.io import fits\n",
    "from astropy import wcs\n",
    "from photutils.aperture import RectangularAperture as RAp\n",
    "from photutils.aperture import RectangularAnnulus as RAn\n",
    "from photutils import aperture_photometry as apphot\n",
    "from photutils.centroids import centroid_sources, centroid_com\n",
    "from astropy.stats import sigma_clipped_stats\n",
    "import sep\n",
    "import pandas as pd"
   ]
  },
  {
   "cell_type": "code",
   "execution_count": 9,
   "metadata": {},
   "outputs": [],
   "source": [
    "# %matplotlib notebook\n",
    "%matplotlib widget"
   ]
  },
  {
   "cell_type": "markdown",
   "metadata": {},
   "source": [
    "### Cosmological parameter"
   ]
  },
  {
   "cell_type": "code",
   "execution_count": 10,
   "metadata": {},
   "outputs": [
    {
     "name": "stdout",
     "output_type": "stream",
     "text": [
      "z = 0.3527\n",
      "D_L = 1873.69 Mpc\n",
      "4.964 kpc/arcsec\n"
     ]
    }
   ],
   "source": [
    "from astropy.cosmology import FlatLambdaCDM\n",
    "redshift = 0.3527\n",
    "cosmo = FlatLambdaCDM(H0=70, Om0=0.3)\n",
    "ldist = cosmo.luminosity_distance(redshift).value    # Mpc\n",
    "kpc_per_arcsec = cosmo.kpc_proper_per_arcmin(redshift).value / 60.    # kpc/arcsec\n",
    "print(f\"z = {redshift:.4f}\")\n",
    "print(f\"D_L = {ldist:.2f} Mpc\")\n",
    "print(f\"{kpc_per_arcsec:.3f} kpc/arcsec\")"
   ]
  },
  {
   "cell_type": "markdown",
   "metadata": {},
   "source": [
    "### Loading the Gemini GMOS/IFU FOV"
   ]
  },
  {
   "cell_type": "code",
   "execution_count": 11,
   "metadata": {},
   "outputs": [
    {
     "name": "stdout",
     "output_type": "stream",
     "text": [
      "268.0265 44.66745833 85.0\n"
     ]
    }
   ],
   "source": [
    "# Gemini GMOS/IFU data cube\n",
    "diG = \"/data/jlee/DATA/Gemini/Programs/GN-2019A-Q-215/redux4_700/\"\n",
    "cubname = \"cstxeqxbrgN20190611S0257_3D.fits\"\n",
    "\n",
    "# Reading necessary data\n",
    "hdr = fits.getheader(diG+cubname, ext=0)\n",
    "gra, gdec, gpa = hdr[\"RA\"], hdr[\"DEC\"], hdr[\"PA\"]\n",
    "print(gra, gdec, gpa)"
   ]
  },
  {
   "cell_type": "markdown",
   "metadata": {},
   "source": [
    "### Loading the Aperture Region File (from SExtractor)"
   ]
  },
  {
   "cell_type": "code",
   "execution_count": 23,
   "metadata": {},
   "outputs": [
    {
     "name": "stdout",
     "output_type": "stream",
     "text": [
      "268.026361 44.667992 3.97 1.963 -82.74\n"
     ]
    }
   ],
   "source": [
    "# Reading apreture region file of the object\n",
    "dir_reg = \"/data/jlee/DATA/HLA/McPartland+16/MACS1752/JFG2/Phot/\"\n",
    "regname = \"JFG_totapr.reg\"\n",
    "f = open(dir_reg+regname, \"r\")\n",
    "ll = f.readlines()\n",
    "f.close()\n",
    "\n",
    "se_ra = np.float(ll[-1].split(',')[0].split('(')[1])\n",
    "se_dec = np.float(ll[-1].split(',')[1])\n",
    "se_a = np.float(ll[-1].split(',')[2][:-1])\n",
    "se_b = np.float(ll[-1].split(',')[3][:-1])\n",
    "se_theta = np.float(ll[-1].split(',')[4].split(')')[0])\n",
    "\n",
    "print(se_ra, se_dec, se_a, se_b, se_theta)"
   ]
  },
  {
   "cell_type": "markdown",
   "metadata": {},
   "source": [
    "### Aperture photometry for HST images"
   ]
  },
  {
   "cell_type": "code",
   "execution_count": 25,
   "metadata": {},
   "outputs": [
    {
     "name": "stdout",
     "output_type": "stream",
     "text": [
      "(X, Y) = (197.8369, 180.0619) from GMOS/IFU header\n",
      "(X, Y) = (204.9744, 218.4824) from HST SExtractor photometry\n"
     ]
    }
   ],
   "source": [
    "# WCS XY conversion for HST images\n",
    "diH = \"/data/jlee/DATA/HLA/McPartland+16/MACS1752/JFG2/Phot/\"\n",
    "imglist = [\"435_ori.fits\", \"606_ori.fits\", \"814_ori.fits\", \"110_ori.fits\", \"140_ori.fits\"]\n",
    "filt = [\"F435W\", \"F606W\", \"F814W\", \"F110W\", \"F140W\"]\n",
    "Amag = [0.109, 0.075, 0.046, 0.027, 0.018]\n",
    "fwhm = np.array([0.1, 0.1, 0.1, 0.2, 0.2])    # arcsec\n",
    "\n",
    "h = fits.getheader(diH+imglist[1], ext=0)\n",
    "w = wcs.WCS(h)\n",
    "px, py = w.wcs_world2pix(gra, gdec, 1)\n",
    "sx, sy = w.wcs_world2pix(se_ra, se_dec, 1)\n",
    "print(f\"(X, Y) = ({px:.4f}, {py:.4f}) from GMOS/IFU header\")\n",
    "print(f\"(X, Y) = ({sx:.4f}, {sy:.4f}) from HST SExtractor photometry\")"
   ]
  },
  {
   "cell_type": "code",
   "execution_count": 26,
   "metadata": {},
   "outputs": [],
   "source": [
    "# IFU FOV information\n",
    "pixel_scale = 0.05    # arcsec/pixel\n",
    "ifu_w, ifu_h = 7.0, 5.0    # arcsec"
   ]
  },
  {
   "cell_type": "code",
   "execution_count": 39,
   "metadata": {
    "tags": []
   },
   "outputs": [
    {
     "name": "stdout",
     "output_type": "stream",
     "text": [
      "(x_centroid, y_centroid) = (202.6690, 225.0096)\n"
     ]
    },
    {
     "data": {
      "application/vnd.jupyter.widget-view+json": {
       "model_id": "cae3f485d56242fea85fa80331ca126b",
       "version_major": 2,
       "version_minor": 0
      },
      "text/plain": [
       "Canvas(toolbar=Toolbar(toolitems=[('Home', 'Reset original view', 'home', 'home'), ('Back', 'Back to previous …"
      ]
     },
     "metadata": {},
     "output_type": "display_data"
    }
   ],
   "source": [
    "# Combining HST/ACS images\n",
    "com = np.zeros((h['NAXIS1'], h['NAXIS2']))\n",
    "acslist = imglist[:3]\n",
    "for i in np.arange(len(acslist)):\n",
    "    d = fits.getdata(diH+acslist[i], ext=0, header=False)\n",
    "    com += (1./len(acslist)) * d\n",
    "\n",
    "bs = 50\n",
    "cx, cy = centroid_sources(com, 202, 229, box_size=bs, centroid_func=centroid_com)\n",
    "print(f\"(x_centroid, y_centroid) = ({cx[0]:.4f}, {cy[0]:.4f})\")\n",
    "\n",
    "fig, ax = plt.subplots(figsize=(4,4))\n",
    "ax.imshow(com, origin=\"lower\", cmap=\"gray_r\", vmin=-0.01, vmax=0.10)\n",
    "ax.scatter(cx, cy, marker='+', s=80, color='red')\n",
    "\n",
    "NN = 5\n",
    "a_arr = np.linspace(2*se_a/pixel_scale/NN, 2*se_a/pixel_scale, NN)\n",
    "b_arr = np.linspace(2*se_b/pixel_scale/NN, 2*se_b/pixel_scale, NN)\n",
    "for aa, bb in zip(a_arr, b_arr):\n",
    "    c0 = Ellipse((cx, cy), width=aa, height=bb, angle=se_theta,\n",
    "                 color='orange', fill=False, ls='-', lw=2.0, alpha=0.8)\n",
    "    ax.add_patch(c0)\n",
    "ax.tick_params(labelleft=False, labelbottom=False)\n",
    "plt.tight_layout()"
   ]
  },
  {
   "cell_type": "code",
   "execution_count": 33,
   "metadata": {},
   "outputs": [
    {
     "data": {
      "text/plain": [
       "array([ 15.88,  31.76,  47.64,  63.52,  79.4 ,  95.28, 111.16, 127.04,\n",
       "       142.92, 158.8 ])"
      ]
     },
     "execution_count": 33,
     "metadata": {},
     "output_type": "execute_result"
    }
   ],
   "source": [
    "np.linspace(2*se_a/pixel_scale/10, 2*se_a/pixel_scale, 10)"
   ]
  },
  {
   "cell_type": "code",
   "execution_count": 30,
   "metadata": {},
   "outputs": [
    {
     "name": "stdout",
     "output_type": "stream",
     "text": [
      "1 10\n",
      "2 12\n",
      "3 14\n",
      "4 16\n",
      "5 18\n"
     ]
    }
   ],
   "source": [
    "a = np.array([1,2,3,4,5])\n",
    "b = np.array([10, 12, 14, 16, 18])\n",
    "for i, j in zip(a, b):\n",
    "    print(i, j)"
   ]
  },
  {
   "cell_type": "code",
   "execution_count": 15,
   "metadata": {},
   "outputs": [],
   "source": [
    "def sep_phot(data, thresh, minarea=5, db_nth=32, db_cont=0.005,\n",
    "             bkg_sub=True, bw=32, bh=32, fw=3, fh=3,\n",
    "             Kron_fact=2.5, min_diameter=3.5, flux_ratio=0.5):\n",
    "\n",
    "    bkg = sep.Background(data, mask=None, bw=bw, bh=bh, fw=fw, fh=fh)\n",
    "    backgr, sky, sig = bkg.back(), bkg.globalback, bkg.globalrms\n",
    "\n",
    "    if bkg_sub:\n",
    "        data -= backgr\n",
    "\n",
    "    src = sep.extract(data, thresh, err=sig, minarea=minarea, deblend_nthresh=db_nth, deblend_cont=db_cont)\n",
    "    src['theta'][src['theta'] < -np.pi/2.] = -np.pi/2. + 1.0e-7\n",
    "    src['theta'][src['theta'] > np.pi/2.] = np.pi/2. - 1.0e-7\n",
    "\n",
    "    kronrad, krflag = sep.kron_radius(data, src['x'], src['y'],\n",
    "                                      src['a'], src['b'], src['theta'], 6.0)\n",
    "    kronrad[np.isnan(kronrad) == True] = 0.\n",
    "    flux, fluxerr, flag = sep.sum_ellipse(data, src['x'], src['y'],\n",
    "                                          src['a'], src['b'], src['theta'],\n",
    "                                          Kron_fact*kronrad, err=sig, gain=1.0, subpix=0)\n",
    "    flag |= krflag    # Combining flags\n",
    "    r_min = 0.5*min_diameter\n",
    "\n",
    "    use_circle = (kronrad * np.sqrt(src['a'], src['b']) < r_min)\n",
    "    cflux, cfluxerr, cflag = sep.sum_circle(data, src['x'][use_circle], src['y'][use_circle],\n",
    "                                            r_min, err=sig, gain=1.0, subpix=0)\n",
    "    flux[use_circle] = cflux\n",
    "    fluxerr[use_circle] = cfluxerr\n",
    "    flag[use_circle] = cflag\n",
    "\n",
    "    r, flag = sep.flux_radius(data, src['x'], src['y'], 6.0*src['a'],\n",
    "                              flux_ratio, normflux=flux, subpix=5) \n",
    "    df = pd.DataFrame(src)\n",
    "    df['kronrad'] = kronrad\n",
    "    df['fluxrad'] = r\n",
    "    \n",
    "    return df\n",
    "\n",
    "df = sep_phot(com, 2.0, minarea=5, db_nth=32, db_cont=0.05,\n",
    "              bkg_sub=False, bw=32, bh=32, fw=3, fh=3,\n",
    "              Kron_fact=2.5, min_diameter=3.5, flux_ratio=0.9)"
   ]
  },
  {
   "cell_type": "code",
   "execution_count": 16,
   "metadata": {},
   "outputs": [
    {
     "data": {
      "text/html": [
       "<div>\n",
       "<style scoped>\n",
       "    .dataframe tbody tr th:only-of-type {\n",
       "        vertical-align: middle;\n",
       "    }\n",
       "\n",
       "    .dataframe tbody tr th {\n",
       "        vertical-align: top;\n",
       "    }\n",
       "\n",
       "    .dataframe thead th {\n",
       "        text-align: right;\n",
       "    }\n",
       "</style>\n",
       "<table border=\"1\" class=\"dataframe\">\n",
       "  <thead>\n",
       "    <tr style=\"text-align: right;\">\n",
       "      <th></th>\n",
       "      <th>thresh</th>\n",
       "      <th>npix</th>\n",
       "      <th>tnpix</th>\n",
       "      <th>xmin</th>\n",
       "      <th>xmax</th>\n",
       "      <th>ymin</th>\n",
       "      <th>ymax</th>\n",
       "      <th>x</th>\n",
       "      <th>y</th>\n",
       "      <th>x2</th>\n",
       "      <th>...</th>\n",
       "      <th>flux</th>\n",
       "      <th>cpeak</th>\n",
       "      <th>peak</th>\n",
       "      <th>xcpeak</th>\n",
       "      <th>ycpeak</th>\n",
       "      <th>xpeak</th>\n",
       "      <th>ypeak</th>\n",
       "      <th>flag</th>\n",
       "      <th>kronrad</th>\n",
       "      <th>fluxrad</th>\n",
       "    </tr>\n",
       "  </thead>\n",
       "  <tbody>\n",
       "    <tr>\n",
       "      <th>52</th>\n",
       "      <td>0.003801</td>\n",
       "      <td>6537</td>\n",
       "      <td>6297</td>\n",
       "      <td>166</td>\n",
       "      <td>251</td>\n",
       "      <td>141</td>\n",
       "      <td>274</td>\n",
       "      <td>204.366222</td>\n",
       "      <td>217.93805</td>\n",
       "      <td>152.827452</td>\n",
       "      <td>...</td>\n",
       "      <td>227.514893</td>\n",
       "      <td>0.592285</td>\n",
       "      <td>0.676633</td>\n",
       "      <td>206</td>\n",
       "      <td>227</td>\n",
       "      <td>206</td>\n",
       "      <td>227</td>\n",
       "      <td>0</td>\n",
       "      <td>1.606982</td>\n",
       "      <td>42.152685</td>\n",
       "    </tr>\n",
       "  </tbody>\n",
       "</table>\n",
       "<p>1 rows × 32 columns</p>\n",
       "</div>"
      ],
      "text/plain": [
       "      thresh  npix  tnpix  xmin  xmax  ymin  ymax           x          y  \\\n",
       "52  0.003801  6537   6297   166   251   141   274  204.366222  217.93805   \n",
       "\n",
       "            x2  ...        flux     cpeak      peak  xcpeak  ycpeak  xpeak  \\\n",
       "52  152.827452  ...  227.514893  0.592285  0.676633     206     227    206   \n",
       "\n",
       "    ypeak  flag   kronrad    fluxrad  \n",
       "52    227     0  1.606982  42.152685  \n",
       "\n",
       "[1 rows x 32 columns]"
      ]
     },
     "execution_count": 16,
     "metadata": {},
     "output_type": "execute_result"
    }
   ],
   "source": [
    "mat = ((np.abs(df['x'].values-cx) < 0.5*bs) & (np.abs(df['y'].values-cy) < 0.5*bs))\n",
    "df.loc[mat]"
   ]
  },
  {
   "cell_type": "code",
   "execution_count": 17,
   "metadata": {},
   "outputs": [
    {
     "data": {
      "text/plain": [
       "(20.090049743652344, 4.482192515237642, -79.4296973676148)"
      ]
     },
     "execution_count": 17,
     "metadata": {},
     "output_type": "execute_result"
    }
   ],
   "source": [
    "df['a'].values[mat][0], df['b'].values[mat][0], df['theta'].values[mat][0]*(180./np.pi)"
   ]
  },
  {
   "cell_type": "code",
   "execution_count": 18,
   "metadata": {},
   "outputs": [
    {
     "data": {
      "application/vnd.jupyter.widget-view+json": {
       "model_id": "c734471995314ab59f57764c3b5a16ca",
       "version_major": 2,
       "version_minor": 0
      },
      "text/plain": [
       "Canvas(toolbar=Toolbar(toolitems=[('Home', 'Reset original view', 'home', 'home'), ('Back', 'Back to previous …"
      ]
     },
     "metadata": {},
     "output_type": "display_data"
    }
   ],
   "source": [
    "x0, y0 = df['x'].values[mat][0], df['y'].values[mat][0]\n",
    "a0, b0, theta0 = df['a'].values[mat][0], df['b'].values[mat][0], df['theta'].values[mat][0]\n",
    "\n",
    "fig, ax = plt.subplots(figsize=(4,4))\n",
    "ax.imshow(com, origin=\"lower\", cmap=\"gray_r\", vmin=-0.01, vmax=0.10)\n",
    "ax.scatter(df['x'].values[mat][0], df['y'].values[mat][0], marker='+', s=80, color='yellow')\n",
    "c0 = Ellipse((x0, y0), width=2*a0, height=2*b0, angle=theta0*(180./np.pi),\n",
    "             color='red', fill=False, ls='-', lw=2.5, alpha=0.9)\n",
    "ax.add_patch(c0)\n",
    "ax.tick_params(labelleft=False, labelbottom=False)\n",
    "plt.tight_layout()"
   ]
  },
  {
   "cell_type": "code",
   "execution_count": 7,
   "metadata": {},
   "outputs": [],
   "source": [
    "# Creating the FOV aperture\n",
    "w0, h0 = ifu_w/pixel_scale, ifu_h/pixel_scale\n",
    "ap = RAp((px-1, py-1), w=w0, h=h0, theta=gpa*np.pi/180.)\n",
    "an = RAn((px-1, py-1), w_in=w0+10, w_out=w0+60,\n",
    "         h_in=h0+10, h_out=h0+60, theta=gpa*np.pi/180.)"
   ]
  },
  {
   "cell_type": "code",
   "execution_count": 8,
   "metadata": {
    "tags": []
   },
   "outputs": [
    {
     "data": {
      "application/vnd.jupyter.widget-view+json": {
       "model_id": "56eaa74e3d6a4fe0bd25ead72e151a92",
       "version_major": 2,
       "version_minor": 0
      },
      "text/plain": [
       "Canvas(toolbar=Toolbar(toolitems=[('Home', 'Reset original view', 'home', 'home'), ('Back', 'Back to previous …"
      ]
     },
     "metadata": {},
     "output_type": "display_data"
    }
   ],
   "source": [
    "# Showing the FOV aperture\n",
    "fig, ax = plt.subplots(1, len(imglist), figsize=(len(imglist)*4, 4))\n",
    "for i in np.arange(len(imglist)):\n",
    "    dat = fits.getdata(diH+imglist[i], ext=0, header=False)\n",
    "    ax[i].imshow(dat, origin=\"lower\", cmap=\"gray_r\", vmin=-0.01, vmax=0.10)\n",
    "    ax[i].tick_params(labelleft=False, labelbottom=False)\n",
    "    ap_patches = ap.plot(axes=ax[i], color=\"red\", lw=2.0, ls=\"-\")\n",
    "    an_patches = an.plot(axes=ax[i], color=\"magenta\", lw=1.5, ls=\"--\", alpha=0.7)\n",
    "    c0 = plt.Circle((0.10*dat.shape[1], 0.30*dat.shape[0]),\n",
    "                    radius=fwhm[i]/pixel_scale/2, color='blue', fill=True, ls='-', lw=1.25, alpha=0.5)\n",
    "    ax[i].add_patch(c0)\n",
    "    ax[i].text(0.05, 0.95, filt[i], fontsize=20.0, fontweight=\"bold\", color=\"black\",\n",
    "               ha=\"left\", va=\"top\", transform=ax[i].transAxes)\n",
    "    if (i == 0):\n",
    "        ax[i].text(0.05, 0.05, f\"5 arcsec = {5*kpc_per_arcsec:.2f} kpc\", fontsize=15.0, fontweight=\"bold\", color=\"blueviolet\",\n",
    "                   ha=\"left\", va=\"bottom\", transform=ax[i].transAxes)\n",
    "plt.tight_layout()\n",
    "plt.savefig(\"check_HST.png\", dpi=300)"
   ]
  },
  {
   "cell_type": "code",
   "execution_count": 9,
   "metadata": {},
   "outputs": [
    {
     "data": {
      "text/plain": [
       "(20.0, 6.666666666666667)"
      ]
     },
     "execution_count": 9,
     "metadata": {},
     "output_type": "execute_result"
    }
   ],
   "source": [
    "dat = fits.getdata(diH+imglist[0], ext=0, header=False)\n",
    "dat.shape[0] * 0.05, 10.0 / 1.5"
   ]
  },
  {
   "cell_type": "code",
   "execution_count": 10,
   "metadata": {},
   "outputs": [],
   "source": [
    "# Aperture photometry for the IFU FOV\n",
    "cols = [('id','U5'), ('x','<f4'), ('y','<f4'), \n",
    "        ('aperture_sum','<f4'), ('area_ap','<f4'),\n",
    "        ('msky','<f8'), ('nsky','<f4'), ('sky_sigma','<f8'),\n",
    "        ('source_sum','<f4'), ('mag','<f4'), ('merr','<f4')]\n",
    "phot_table = np.zeros(len(imglist), dtype=cols)\n",
    "\n",
    "for i in np.arange(len(imglist)):\n",
    "    data, head = fits.getdata(diH+imglist[i], header=True, ext=0)\n",
    "    zmag, gain, exptime, itime = head['MAGZERO'], head['CCDGAIN'], head['EXPTIME'], 1.0\n",
    "\n",
    "    # Aperture photometry\n",
    "    phot = apphot(data=data, apertures=ap)\n",
    "    phot_table['id'][i] = filt[i]\n",
    "    phot_table['x'][i], phot_table['y'][i] = phot['xcenter'].data[0], phot['ycenter'].data[0]\n",
    "    phot_table['aperture_sum'][i] = phot['aperture_sum'].data[0]\n",
    "    phot_table['area_ap'][i] = ap.area\n",
    "\n",
    "    # Local sky estimation\n",
    "    sky_mask = an.to_mask(method='center')\n",
    "    sky_vals = sky_mask.multiply(data)\n",
    "    skyv = sky_vals[sky_vals != 0.]\n",
    "    nsky = np.sum(sky_vals != 0.)\n",
    "    avg, med, std = sigma_clipped_stats(skyv, sigma=2.5, maxiters=10, std_ddof=1)\n",
    "    if med - avg < 0.3 * std:\n",
    "        msky = med\n",
    "    else:\n",
    "        msky = 2.5 * med - 1.5 * avg\n",
    "\n",
    "    # Magitude calculation\n",
    "    src_sum = phot['aperture_sum'].data[0] - ap.area*msky\n",
    "    nflx = src_sum / itime\n",
    "    tflx = nflx * exptime\n",
    "    mag = zmag - 2.5*np.log10(nflx) - Amag[i]\n",
    "    err = np.sqrt(tflx/gain + ap.area*std**2. + (ap.area**2. * std**2.)/nsky)\n",
    "\n",
    "    phot_table['msky'][i], phot_table['nsky'][i], phot_table['sky_sigma'][i] = msky, nsky, std\n",
    "    phot_table['source_sum'][i], phot_table['mag'][i], phot_table['merr'][i] = src_sum, mag, (2.5/np.log(10.0)) * (err/tflx)"
   ]
  },
  {
   "cell_type": "code",
   "execution_count": 11,
   "metadata": {},
   "outputs": [
    {
     "data": {
      "text/plain": [
       "array([('F435W', 196.83694, 179.06187,  98.590996, 14000.,  0.0002134 , 15496., 0.00257582,  95.60345, 20.606356, 0.00156227),\n",
       "       ('F606W', 196.83694, 179.06187, 354.2571  , 14000.,  0.00072442, 15496., 0.00375862, 344.11517, 20.08427 , 0.00067728),\n",
       "       ('F814W', 196.83694, 179.06187, 252.39993 , 14000.,  0.00055272, 15496., 0.00286421, 244.66187, 19.92863 , 0.00061971),\n",
       "       ('F110W', 196.83694, 179.06187, 607.31006 , 14000., -0.00043639, 15496., 0.00504253, 613.4195 , 19.82573 , 0.00104355),\n",
       "       ('F140W', 196.83694, 179.06187, 459.17673 , 14000., -0.00128209, 15496., 0.00417162, 477.12604, 19.737734, 0.00118324)],\n",
       "      dtype=[('id', '<U5'), ('x', '<f4'), ('y', '<f4'), ('aperture_sum', '<f4'), ('area_ap', '<f4'), ('msky', '<f8'), ('nsky', '<f4'), ('sky_sigma', '<f8'), ('source_sum', '<f4'), ('mag', '<f4'), ('merr', '<f4')])"
      ]
     },
     "execution_count": 11,
     "metadata": {},
     "output_type": "execute_result"
    }
   ],
   "source": [
    "phot_table"
   ]
  },
  {
   "cell_type": "code",
   "execution_count": 12,
   "metadata": {},
   "outputs": [],
   "source": [
    "m_AB_HST, e_m_AB_HST = phot_table['mag'], phot_table['merr']"
   ]
  },
  {
   "cell_type": "markdown",
   "metadata": {},
   "source": [
    "### Loading aperture region file (from SExtractor)"
   ]
  },
  {
   "cell_type": "code",
   "execution_count": null,
   "metadata": {},
   "outputs": [],
   "source": []
  },
  {
   "cell_type": "code",
   "execution_count": null,
   "metadata": {},
   "outputs": [],
   "source": []
  },
  {
   "cell_type": "markdown",
   "metadata": {},
   "source": [
    "### Aperture photometry for GALEX images"
   ]
  },
  {
   "cell_type": "code",
   "execution_count": 13,
   "metadata": {},
   "outputs": [
    {
     "name": "stdout",
     "output_type": "stream",
     "text": [
      "3138.1476422690466 2543.3488901837172\n"
     ]
    }
   ],
   "source": [
    "# WCS XY conversion for GALEX images\n",
    "diG = \"/data/jlee/DATA/HLA/McPartland+16/MACS1752/test_SED/MAST/GALEX/\"\n",
    "imglist_int = [\"fd-int.fits\", \"nd-int.fits\"]\n",
    "imglist_bgr = [\"fd-skybg.fits\", \"nd-skybg.fits\"]\n",
    "imglist_ext = [\"fd-rrhr.fits\", \"nd-rrhr.fits\"]\n",
    "filt = [\"FUV\", \"NUV\"]\n",
    "fwhm = np.array([4.2, 5.3])    # arcsec\n",
    "\n",
    "h = fits.getheader(diG+imglist_int[0], ext=0)\n",
    "w = wcs.WCS(h)\n",
    "px, py = w.wcs_world2pix(gra, gdec, 1)\n",
    "print(px, py)"
   ]
  },
  {
   "cell_type": "code",
   "execution_count": 14,
   "metadata": {},
   "outputs": [
    {
     "data": {
      "text/plain": [
       "<RectangularAperture([3137.14764227, 2542.34889018], w=9.333333333333334, h=6.666666666666667, theta=1.4835298641951802)>"
      ]
     },
     "execution_count": 14,
     "metadata": {},
     "output_type": "execute_result"
    }
   ],
   "source": [
    "# Creating the FOV aperture\n",
    "pixel_scale = 1.5    # arcsec/pixel\n",
    "w0, h0 = ifu_w/pixel_scale, ifu_h/pixel_scale\n",
    "ap = RAp((px-1, py-1), w=w0*2.0, h=h0*2.0, theta=gpa*np.pi/180.)\n",
    "# ap = RAp((px-1, py-1), w=np.maximum(fwhm.max()/pixel_scale, w0),\n",
    "#          h=np.maximum(fwhm.max()/pixel_scale, h0), theta=gpa*np.pi/180.)\n",
    "ap"
   ]
  },
  {
   "cell_type": "code",
   "execution_count": 15,
   "metadata": {},
   "outputs": [
    {
     "data": {
      "application/vnd.jupyter.widget-view+json": {
       "model_id": "a0ee6e61f88844fcb540f0890d9af360",
       "version_major": 2,
       "version_minor": 0
      },
      "text/plain": [
       "Canvas(toolbar=Toolbar(toolitems=[('Home', 'Reset original view', 'home', 'home'), ('Back', 'Back to previous …"
      ]
     },
     "metadata": {},
     "output_type": "display_data"
    }
   ],
   "source": [
    "# Showing the FOV aperture\n",
    "rth = 7    # for plotting\n",
    "fig, ax = plt.subplots(1, len(imglist_int), figsize=(len(imglist_int)*4, 4))\n",
    "for i in np.arange(len(imglist_int)):\n",
    "    dat = fits.getdata(diG+imglist_int[i], ext=0, header=False)\n",
    "    ax[i].imshow(dat[int(py-1)-rth:int(py-1)+rth, int(px-1)-rth:int(px-1)+rth],\n",
    "                 origin=\"lower\", cmap=\"gray_r\", vmin=0., vmax=0.02)\n",
    "    ax[i].tick_params(labelleft=False, labelbottom=False)\n",
    "    ap_plt0 = RAp((px-1-(int(px-1)-rth), py-1-(int(py-1)-rth)),\n",
    "                 w=w0, h=h0,\n",
    "#                  w=np.maximum(fwhm.max()/pixel_scale, w0),\n",
    "#                  h=np.maximum(fwhm.max()/pixel_scale, h0),\n",
    "                 theta=gpa*np.pi/180.)\n",
    "    ap_patches = ap_plt0.plot(axes=ax[i], color=\"red\", lw=1.5, ls=\"-\")\n",
    "    ap_plt = RAp((px-1-(int(px-1)-rth), py-1-(int(py-1)-rth)),\n",
    "                 w=w0*2.0, h=h0*2.0,\n",
    "#                  w=np.maximum(fwhm.max()/pixel_scale, w0),\n",
    "#                  h=np.maximum(fwhm.max()/pixel_scale, h0),\n",
    "                 theta=gpa*np.pi/180.)\n",
    "    ap_patches = ap_plt.plot(axes=ax[i], color=\"red\", lw=2.0, ls=\"-\")\n",
    "    from photutils.aperture import EllipticalAperture as EAp\n",
    "    ax[i].text(0.05, 0.95, filt[i], fontsize=20.0, fontweight=\"bold\", color=\"black\",\n",
    "               ha=\"left\", va=\"top\", transform=ax[i].transAxes)\n",
    "    c0 = plt.Circle((0.15*dat[int(py-1)-rth:int(py-1)+rth, int(px-1)-rth:int(px-1)+rth].shape[1],\n",
    "                     0.30*dat[int(py-1)-rth:int(py-1)+rth, int(px-1)-rth:int(px-1)+rth].shape[0]),\n",
    "                    radius=fwhm[i]/pixel_scale/2, color='blue', fill=True, ls='-', lw=1.5, alpha=0.5)\n",
    "    ax[i].add_patch(c0)\n",
    "    if (i == 0):\n",
    "        ax[i].text(0.05, 0.05, f\"5 arcsec = {5*kpc_per_arcsec:.2f} kpc\", fontsize=15.0, fontweight=\"bold\", color=\"blueviolet\",\n",
    "                   ha=\"left\", va=\"bottom\", transform=ax[i].transAxes)\n",
    "        ap2_plt = EAp((3137.3737-(int(px-1)-rth), 2543.6318-(int(py-1)-rth)), a=5.6628, b=2.8000, theta=-1.4441)\n",
    "        ap_patches = ap2_plt.plot(axes=ax[i], color=\"green\", lw=2.0, ls=\"--\")\n",
    "    else:\n",
    "        ap2_plt = EAp((3137.3737-(int(px-1)-rth), 2543.6318-(int(py-1)-rth)), a=7.1459, b=3.5333, theta=-1.4441)\n",
    "        ap_patches = ap2_plt.plot(axes=ax[i], color=\"green\", lw=2.0, ls=\"--\")        \n",
    "plt.tight_layout()\n",
    "plt.savefig(\"check_GALEX.png\", dpi=300)"
   ]
  },
  {
   "cell_type": "code",
   "execution_count": 16,
   "metadata": {},
   "outputs": [],
   "source": [
    "# Aperture photometry for the IFU FOV\n",
    "cols = [('id','U5'), ('x','<f4'), ('y','<f4'), \n",
    "        ('aperture_sum','<f4'), ('area_ap','<f4'),\n",
    "        ('msky','<f8'), ('nsky','<f4'), ('sky_sigma','<f8'),\n",
    "        ('source_sum','<f4'), ('mag','<f4'), ('merr','<f4')]\n",
    "phot_table = np.zeros(len(imglist_int), dtype=cols)\n",
    "\n",
    "zeropoint = [18.82, 20.08]\n",
    "E_bv = 0.03047207    # mag\n",
    "cfac = [7.9, 8.0]    # Conversion factor (Gil de Paz+07)\n",
    "Amag = np.array(cfac)*E_bv    # mag\n",
    "\n",
    "for i in np.arange(len(imglist_int)):\n",
    "    inten, hdr = fits.getdata(diG+imglist_int[i], header=True, ext=0)\n",
    "    backgr = fits.getdata(diG+imglist_bgr[i], header=False, ext=0)\n",
    "    eff_ext = fits.getdata(diG+imglist_ext[i], header=False, ext=0)\n",
    "\n",
    "    mask_arr = np.zeros_like(inten).astype('bool')\n",
    "    mask_arr[((inten == 0.) | (np.isnan(inten) == True))] = True\n",
    "\n",
    "    # Aperture photometry\n",
    "    phot = apphot(data=inten-backgr, apertures=ap,\n",
    "                  error=np.sqrt(inten/eff_ext), mask=mask_arr)\n",
    "    phot_table['id'][i] = filt[i]\n",
    "    phot_table['x'][i], phot_table['y'][i] = phot['xcenter'].data[0], phot['ycenter'].data[0]\n",
    "    phot_table['aperture_sum'][i] = phot['aperture_sum'].data[0]\n",
    "    phot_table['source_sum'][i] = phot_table['aperture_sum'][i]\n",
    "    phot_table['area_ap'][i] = ap.area\n",
    "\n",
    "    mag = zeropoint[i] - 2.5*np.log10(phot['aperture_sum'].data[0]) - Amag[i]\n",
    "    merr = (2.5/np.log(10.0)) * (phot['aperture_sum_err'].data[0]/phot['aperture_sum'].data[0])\n",
    "\n",
    "    # Local sky estimation\n",
    "    sky_mask = ap.to_mask(method='center')\n",
    "    sky_vals = sky_mask.multiply(backgr)\n",
    "    skyv = sky_vals[sky_vals != 0.]\n",
    "    nsky = np.sum(sky_vals != 0.)\n",
    "    avg, med, std = sigma_clipped_stats(skyv, sigma=2.5, maxiters=10, std_ddof=1)\n",
    "    if med - avg < 0.3 * std:\n",
    "        msky = med\n",
    "    else:\n",
    "        msky = 2.5 * med - 1.5 * avg\n",
    "\n",
    "    phot_table['msky'][i], phot_table['nsky'][i], phot_table['sky_sigma'][i] = msky, nsky, std\n",
    "    phot_table['mag'][i], phot_table['merr'][i] = mag, merr"
   ]
  },
  {
   "cell_type": "code",
   "execution_count": 17,
   "metadata": {},
   "outputs": [
    {
     "data": {
      "text/plain": [
       "array([('FUV', 3137.1477, 2542.3489, 0.09383677, 62.22222, 0.00046259, 64., 2.20713224e-07, 0.09383677, 21.148338, 0.23774792),\n",
       "       ('NUV', 3137.1477, 2542.3489, 0.43537295, 62.22222, 0.00297885, 64., 8.04842718e-07, 0.43537295, 20.739069, 0.12155162)],\n",
       "      dtype=[('id', '<U5'), ('x', '<f4'), ('y', '<f4'), ('aperture_sum', '<f4'), ('area_ap', '<f4'), ('msky', '<f8'), ('nsky', '<f4'), ('sky_sigma', '<f8'), ('source_sum', '<f4'), ('mag', '<f4'), ('merr', '<f4')])"
      ]
     },
     "execution_count": 17,
     "metadata": {},
     "output_type": "execute_result"
    }
   ],
   "source": [
    "phot_table"
   ]
  },
  {
   "cell_type": "code",
   "execution_count": 18,
   "metadata": {},
   "outputs": [],
   "source": [
    "m_AB_GALEX, e_m_AB_GALEX = phot_table['mag'], phot_table['merr']"
   ]
  },
  {
   "cell_type": "markdown",
   "metadata": {},
   "source": [
    "### Aperture photometry for Spitzer images"
   ]
  },
  {
   "cell_type": "code",
   "execution_count": 19,
   "metadata": {},
   "outputs": [
    {
     "name": "stdout",
     "output_type": "stream",
     "text": [
      "1217.3133999973475 499.8611411604372\n"
     ]
    }
   ],
   "source": [
    "# WCS XY conversion for Spitzer images\n",
    "diS = \"/data/jlee/DATA/Spitzer/IRAC/MACS1752/r58320128/\"\n",
    "imglist_maic = sorted(glob.glob(diS+\"*/pbcd/*_maic.fits\"))\n",
    "imglist_munc = sorted(glob.glob(diS+\"*/pbcd/*_munc.fits\"))\n",
    "filt = [\"IRAC1 (3.6)\", \"IRAC2 (4.5)\"]\n",
    "fwhm = np.array([1.95, 2.02])    # arcsec\n",
    "\n",
    "h = fits.getheader(imglist_maic[0], ext=0)\n",
    "w = wcs.WCS(h)\n",
    "px, py = w.wcs_world2pix(gra, gdec, 1)\n",
    "print(px, py)"
   ]
  },
  {
   "cell_type": "code",
   "execution_count": 20,
   "metadata": {},
   "outputs": [],
   "source": [
    "# Creating the FOV aperture\n",
    "pixel_scale = 0.6    # arcsec/pixel\n",
    "w0, h0 = ifu_w/pixel_scale, ifu_h/pixel_scale\n",
    "ap = RAp((px-1, py-1), w=w0, h=h0, theta=(gpa-287.81478)*np.pi/180.)\n",
    "an = RAn((px-1, py-1), w_in=w0+2, w_out=w0+8,\n",
    "         h_in=h0+2, h_out=h0+8, theta=gpa*np.pi/180.)"
   ]
  },
  {
   "cell_type": "code",
   "execution_count": 21,
   "metadata": {},
   "outputs": [
    {
     "data": {
      "application/vnd.jupyter.widget-view+json": {
       "model_id": "21d9f7d916f44cdb85b97ca0f465d96c",
       "version_major": 2,
       "version_minor": 0
      },
      "text/plain": [
       "Canvas(toolbar=Toolbar(toolitems=[('Home', 'Reset original view', 'home', 'home'), ('Back', 'Back to previous …"
      ]
     },
     "metadata": {},
     "output_type": "display_data"
    }
   ],
   "source": [
    "# Showing the FOV aperture\n",
    "rth = 18    # for plotting\n",
    "fig, ax = plt.subplots(1, len(imglist_maic), figsize=(len(imglist_maic)*4, 4))\n",
    "for i in np.arange(len(imglist_maic)):\n",
    "    dat = fits.getdata(imglist_maic[i], ext=0, header=False)\n",
    "    ax[i].imshow(dat[int(py-1)-rth:int(py-1)+rth, int(px-1)-rth:int(px-1)+rth],\n",
    "                 origin=\"lower\", cmap=\"gray_r\", vmin=0., vmax=0.15)\n",
    "    ax[i].tick_params(labelleft=False, labelbottom=False)\n",
    "    ap_plt = RAp((px-1-(int(px-1)-rth), py-1-(int(py-1)-rth)),\n",
    "                 w=w0, h=h0, theta=(gpa-287.81478)*np.pi/180.)\n",
    "    ap_patches = ap_plt.plot(axes=ax[i], color=\"red\", lw=2.0, ls=\"-\")\n",
    "    an_plt = RAn((px-1-(int(px-1)-rth), py-1-(int(py-1)-rth)),\n",
    "                 w_in=w0+2, w_out=w0+8, h_in=h0+2, h_out=h0+8,\n",
    "                 theta=(gpa-287.81478)*np.pi/180.)\n",
    "    an_patches = an_plt.plot(axes=ax[i], color=\"magenta\", lw=1.5, ls=\"--\", alpha=0.7)\n",
    "    ax[i].text(0.05, 0.95, filt[i], fontsize=20.0, fontweight=\"bold\", color=\"black\",\n",
    "               ha=\"left\", va=\"top\", transform=ax[i].transAxes)\n",
    "    c0 = plt.Circle((0.15*dat[int(py-1)-rth:int(py-1)+rth, int(px-1)-rth:int(px-1)+rth].shape[1],\n",
    "                     0.30*dat[int(py-1)-rth:int(py-1)+rth, int(px-1)-rth:int(px-1)+rth].shape[0]),\n",
    "                    radius=fwhm[i]/pixel_scale/2, color='blue', fill=True, ls='-', lw=1.5, alpha=0.5)\n",
    "    ax[i].add_patch(c0)\n",
    "    if (i == 0):\n",
    "        ax[i].text(0.05, 0.05, f\"5 arcsec = {5*kpc_per_arcsec:.2f} kpc\", fontsize=15.0, fontweight=\"bold\", color=\"blueviolet\",\n",
    "                   ha=\"left\", va=\"bottom\", transform=ax[i].transAxes)\n",
    "plt.tight_layout()\n",
    "plt.savefig(\"check_Spitzer.png\", dpi=300)"
   ]
  },
  {
   "cell_type": "code",
   "execution_count": 22,
   "metadata": {},
   "outputs": [],
   "source": [
    "# Aperture photometry for the IFU FOV\n",
    "cols = [('id','U5'), ('x','<f4'), ('y','<f4'), \n",
    "        ('aperture_sum','<f4'), ('area_ap','<f4'),\n",
    "        ('msky','<f8'), ('nsky','<f4'), ('sky_sigma','<f8'),\n",
    "        ('source_sum','<f4'), ('mag','<f4'), ('merr','<f4')]\n",
    "phot_table = np.zeros(len(imglist_int), dtype=cols)\n",
    "\n",
    "zeropoint = [18.80, 18.32]\n",
    "flux0 = [280.9, 179.7]    # Jy\n",
    "m0_AB = 23.93    # microJy\n",
    "\n",
    "for i in np.arange(len(imglist_maic)):\n",
    "    dat, hdr = fits.getdata(imglist_maic[i], header=True, ext=0)\n",
    "    unc = fits.getdata(imglist_munc[i], header=False, ext=0)\n",
    "\n",
    "    # Aperture photometry\n",
    "    phot = apphot(data=dat, apertures=ap, error=unc)\n",
    "    phot_table['id'][i] = filt[i]\n",
    "    phot_table['x'][i], phot_table['y'][i] = phot['xcenter'].data[0], phot['ycenter'].data[0]\n",
    "    phot_table['aperture_sum'][i] = phot['aperture_sum'].data[0]\n",
    "    phot_table['area_ap'][i] = ap.area\n",
    "\n",
    "    # Local sky estimation\n",
    "    sky_mask = an.to_mask(method='center')\n",
    "    sky_vals = sky_mask.multiply(dat)\n",
    "    skyv = sky_vals[sky_vals != 0.]\n",
    "    nsky = np.sum(sky_vals != 0.)\n",
    "    avg, med, std = sigma_clipped_stats(skyv, sigma=2.5, maxiters=10, std_ddof=1)\n",
    "    if med - avg < 0.3 * std:\n",
    "        msky = med\n",
    "    else:\n",
    "        msky = 2.5 * med - 1.5 * avg\n",
    "\n",
    "    # Magitude calculation\n",
    "    src_sum = phot['aperture_sum'].data[0] - ap.area*msky\n",
    "    mag = zeropoint[i] - 2.5*np.log10(src_sum) + (m0_AB - 2.5*np.log10(flux0[i]*1.0e+6))\n",
    "    err = np.sqrt(phot['aperture_sum_err'].data[0]**2. + ap.area*std**2. + (ap.area**2. * std**2.)/nsky)\n",
    "    merr = (2.5/np.log(10.0)) * (err/src_sum)\n",
    "\n",
    "    phot_table['msky'][i], phot_table['nsky'][i], phot_table['sky_sigma'][i] = msky, nsky, std\n",
    "    phot_table['source_sum'][i], phot_table['mag'][i], phot_table['merr'][i] = src_sum, mag, merr"
   ]
  },
  {
   "cell_type": "code",
   "execution_count": 23,
   "metadata": {},
   "outputs": [
    {
     "data": {
      "text/plain": [
       "array([('IRAC1', 1216.3134, 498.86115, 5.583723, 97.22222, 0.03089825, 181., 0.00441376, 2.5797262, 20.579687, 0.0417022 ),\n",
       "       ('IRAC2', 1216.3134, 498.86115, 9.738323, 97.22222, 0.07177848, 181., 0.00530591, 2.7598598, 20.511412, 0.03740961)],\n",
       "      dtype=[('id', '<U5'), ('x', '<f4'), ('y', '<f4'), ('aperture_sum', '<f4'), ('area_ap', '<f4'), ('msky', '<f8'), ('nsky', '<f4'), ('sky_sigma', '<f8'), ('source_sum', '<f4'), ('mag', '<f4'), ('merr', '<f4')])"
      ]
     },
     "execution_count": 23,
     "metadata": {},
     "output_type": "execute_result"
    }
   ],
   "source": [
    "phot_table"
   ]
  },
  {
   "cell_type": "code",
   "execution_count": 24,
   "metadata": {},
   "outputs": [],
   "source": [
    "m_AB_Spitzer, e_m_AB_Spitzer = phot_table['mag'], phot_table['merr']"
   ]
  },
  {
   "cell_type": "markdown",
   "metadata": {},
   "source": [
    "### Stacking the results & Comparing photometry"
   ]
  },
  {
   "cell_type": "code",
   "execution_count": 25,
   "metadata": {},
   "outputs": [],
   "source": [
    "m_AB = np.hstack((m_AB_GALEX, m_AB_HST, m_AB_Spitzer))"
   ]
  },
  {
   "cell_type": "code",
   "execution_count": 26,
   "metadata": {},
   "outputs": [],
   "source": [
    "e_m_AB = np.hstack((e_m_AB_GALEX, e_m_AB_HST, e_m_AB_Spitzer))"
   ]
  },
  {
   "cell_type": "code",
   "execution_count": 27,
   "metadata": {},
   "outputs": [
    {
     "data": {
      "text/plain": [
       "(array([21.148338, 20.739069, 20.606356, 20.08427 , 19.92863 , 19.82573 ,\n",
       "        19.737734, 20.579687, 20.511412], dtype=float32),\n",
       " array([0.23774792, 0.12155162, 0.00156227, 0.00067728, 0.00061971,\n",
       "        0.00104355, 0.00118324, 0.0417022 , 0.03740961], dtype=float32))"
      ]
     },
     "execution_count": 27,
     "metadata": {},
     "output_type": "execute_result"
    }
   ],
   "source": [
    "m_AB, e_m_AB"
   ]
  },
  {
   "cell_type": "code",
   "execution_count": 28,
   "metadata": {},
   "outputs": [],
   "source": [
    "# Old photometry\n",
    "m_AB_0 = np.array([21.085, 20.626, 20.796, 20.2101, 20.0366, 19.9487, 19.8797, 20.593, 20.463])\n",
    "e_m_AB_0 = np.array([0.23, 0.118, 0.1, 0.1, 0.1, 0.1, 0.1, 0.246, 0.197])"
   ]
  },
  {
   "cell_type": "code",
   "execution_count": 29,
   "metadata": {},
   "outputs": [
    {
     "data": {
      "text/plain": [
       "array([ 0.06333832,  0.11306898, -0.18964433, -0.12582952, -0.10796917,\n",
       "       -0.12297063, -0.14196616, -0.01331288,  0.04841167])"
      ]
     },
     "execution_count": 29,
     "metadata": {},
     "output_type": "execute_result"
    }
   ],
   "source": [
    "m_AB - m_AB_0"
   ]
  },
  {
   "cell_type": "markdown",
   "metadata": {},
   "source": [
    "### Estimation of stellar mass (w/ 3.6$\\mu{\\rm m}$ and 4.5$\\mu{\\rm m}$ flux)\n",
    "* Refer to [Eskew et al. (2012)](https://iopscience.iop.org/article/10.1088/0004-6256/143/6/139/pdf)    \n",
    "* Note that teh above literature uses the Salpeter IMF, so that the IMF calibration is needed if one uses different IMF."
   ]
  },
  {
   "cell_type": "code",
   "execution_count": 30,
   "metadata": {},
   "outputs": [],
   "source": [
    "def compute_Ms(m36, m45, lumdist, imf=0):\n",
    "    '''\n",
    "    m36: 3.6um AB magnitude\n",
    "    m45: 4.5um AB magnitude\n",
    "    imf: type of the initial mass function (IMF)\n",
    "        0 - Salpeter 1955 IMF\n",
    "        1 - Kroupa 2001 IMF\n",
    "        2 - Chabrier 2003 IMF\n",
    "    '''\n",
    "    f_v36 = 10.0**(-0.4*(m36 - 8.90))   # AB mag --> Jy \n",
    "    f_v45 = 10.0**(-0.4*(m45 - 8.90))   # AB mag --> Jy\n",
    "    Ms_0 = 10.0**5.65 * f_v36**2.85 * f_v45**(-1.85) * (lumdist/0.05)**2.0\n",
    "    \n",
    "    # Salpeter IMF\n",
    "    if (imf == 0):\n",
    "        Ms = Ms_0\n",
    "    \n",
    "    # Kroupa IMF\n",
    "    if (imf == 1):\n",
    "        Ms = Ms_0 * 0.626\n",
    "    \n",
    "    # Chabrier IMF\n",
    "    if (imf == 2):\n",
    "        Ms = Ms_0 * 0.542\n",
    "    \n",
    "    return Ms"
   ]
  },
  {
   "cell_type": "code",
   "execution_count": 31,
   "metadata": {},
   "outputs": [
    {
     "name": "stdout",
     "output_type": "stream",
     "text": [
      "Stellar mass from NIR fluxes\n",
      "Ms = 6.443e+09 Mo\n",
      "log Ms/Mo = 9.809\n"
     ]
    }
   ],
   "source": [
    "Ms = compute_Ms(m_AB_Spitzer[0], m_AB_Spitzer[1], ldist, imf=2)\n",
    "print(\"Stellar mass from NIR fluxes\")\n",
    "print(f\"Ms = {Ms:.3e} Mo\")\n",
    "print(f\"log Ms/Mo = {np.log10(Ms):.3f}\")"
   ]
  },
  {
   "cell_type": "code",
   "execution_count": null,
   "metadata": {},
   "outputs": [],
   "source": []
  }
 ],
 "metadata": {
  "kernelspec": {
   "display_name": "Python 3",
   "language": "python",
   "name": "python3"
  },
  "language_info": {
   "codemirror_mode": {
    "name": "ipython",
    "version": 3
   },
   "file_extension": ".py",
   "mimetype": "text/x-python",
   "name": "python",
   "nbconvert_exporter": "python",
   "pygments_lexer": "ipython3",
   "version": "3.7.9"
  },
  "toc-autonumbering": false,
  "toc-showmarkdowntxt": true
 },
 "nbformat": 4,
 "nbformat_minor": 4
}
