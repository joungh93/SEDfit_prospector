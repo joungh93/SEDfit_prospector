{
 "cells": [
  {
   "cell_type": "markdown",
   "metadata": {},
   "source": [
    "### Importing packages"
   ]
  },
  {
   "cell_type": "code",
   "execution_count": 1,
   "metadata": {},
   "outputs": [],
   "source": [
    "import numpy as np\n",
    "import glob, os\n",
    "from matplotlib import pyplot as plt\n",
    "from matplotlib.patches import Ellipse\n",
    "from astropy.io import fits\n",
    "from astropy import wcs\n",
    "from photutils.aperture import EllipticalAperture as EAp\n",
    "from photutils.aperture import RectangularAperture as RAp\n",
    "from photutils.aperture import RectangularAnnulus as RAn\n",
    "from photutils import aperture_photometry as apphot\n",
    "from astropy.stats import sigma_clipped_stats\n",
    "from astropy.cosmology import FlatLambdaCDM"
   ]
  },
  {
   "cell_type": "code",
   "execution_count": 2,
   "metadata": {},
   "outputs": [],
   "source": [
    "# %matplotlib notebook\n",
    "%matplotlib widget"
   ]
  },
  {
   "cell_type": "markdown",
   "metadata": {},
   "source": [
    "### Cosmological parameter"
   ]
  },
  {
   "cell_type": "code",
   "execution_count": 3,
   "metadata": {},
   "outputs": [
    {
     "name": "stdout",
     "output_type": "stream",
     "text": [
      "z = 0.3527\n",
      "D_L = 1873.69 Mpc\n",
      "4.964 kpc/arcsec\n"
     ]
    }
   ],
   "source": [
    "redshift = 0.3527\n",
    "cosmo = FlatLambdaCDM(H0=70, Om0=0.3)\n",
    "ldist = cosmo.luminosity_distance(redshift).value    # Mpc\n",
    "kpc_per_arcsec = cosmo.kpc_proper_per_arcmin(redshift).value / 60.    # kpc/arcsec\n",
    "print(f\"z = {redshift:.4f}\")\n",
    "print(f\"D_L = {ldist:.2f} Mpc\")\n",
    "print(f\"{kpc_per_arcsec:.3f} kpc/arcsec\")"
   ]
  },
  {
   "cell_type": "markdown",
   "metadata": {},
   "source": [
    "### Loading the Gemini GMOS/IFU FOV"
   ]
  },
  {
   "cell_type": "code",
   "execution_count": 4,
   "metadata": {},
   "outputs": [
    {
     "name": "stdout",
     "output_type": "stream",
     "text": [
      "# GMOS/IFU center\n",
      "R.A. = 268.02650 deg\n",
      "Decl. = 44.66746 deg\n",
      "PA = 85.0 deg\n",
      "IFU width = 7.0 arcsec\n",
      "IFU height = 5.0 arcsec\n"
     ]
    }
   ],
   "source": [
    "# Gemini GMOS/IFU data cube\n",
    "diG = \"/data/jlee/DATA/Gemini/Programs/GN-2019A-Q-215/redux4_700/\"\n",
    "cubname = \"cstxeqxbrgN20190611S0257_3D.fits\"\n",
    "\n",
    "# Reading necessary data\n",
    "ifu_w, ifu_h = 7.0, 5.0    # arcsec\n",
    "hdr = fits.getheader(diG+cubname, ext=0)\n",
    "gra, gdec, gpa = hdr[\"RA\"], hdr[\"DEC\"], hdr[\"PA\"]\n",
    "print(\"# GMOS/IFU center\")\n",
    "print(f\"R.A. = {gra:.5f} deg\")\n",
    "print(f\"Decl. = {gdec:.5f} deg\")\n",
    "print(f\"PA = {gpa:.1f} deg\")\n",
    "print(f\"IFU width = {ifu_w:.1f} arcsec\")\n",
    "print(f\"IFU height = {ifu_h:.1f} arcsec\")"
   ]
  },
  {
   "cell_type": "markdown",
   "metadata": {},
   "source": [
    "### Aperture photometry for HST/ACS images"
   ]
  },
  {
   "cell_type": "code",
   "execution_count": 5,
   "metadata": {},
   "outputs": [],
   "source": [
    "# Basic information\n",
    "diH = \"/data/jlee/DATA/HLA/McPartland+16/MACS1752/JFG2/Phot/\"\n",
    "imglist = [\"435_ori.fits\", \"606_ori.fits\", \"814_ori.fits\"]\n",
    "filt = [\"F435W\", \"F606W\", \"F814W\"]\n",
    "Amag = [0.109, 0.075, 0.046]    # mag\n",
    "fwhm = [0.1, 0.1, 0.1]    # arcsec\n",
    "pixel_scale = 0.05    # arcsec/pixel\n",
    "wcs_angle = 0.029572035    # deg from DS9 box region"
   ]
  },
  {
   "cell_type": "code",
   "execution_count": 6,
   "metadata": {},
   "outputs": [
    {
     "name": "stdout",
     "output_type": "stream",
     "text": [
      "# GMOS/IFU center\n",
      "(X, Y) = (197.8369, 180.0619)\n"
     ]
    }
   ],
   "source": [
    "# WCS XY conversion for HST images\n",
    "h = fits.getheader(diH+imglist[1], ext=0)\n",
    "w = wcs.WCS(h)\n",
    "px, py = w.wcs_world2pix(gra, gdec, 1)\n",
    "print(\"# GMOS/IFU center\")\n",
    "print(f\"(X, Y) = ({px:.4f}, {py:.4f})\")"
   ]
  },
  {
   "cell_type": "code",
   "execution_count": 7,
   "metadata": {},
   "outputs": [],
   "source": [
    "# Creating the FOV aperture\n",
    "def make_aperture(calc_sky=False, w_in=None, w_out=None, h_in=None, h_out=None):\n",
    "    '''\n",
    "    calc_sky: sky estimation from aperture annulus (boolean, default:False)\n",
    "        if calc_sky is True, w_in, w_out, h_in, h_out should be given.\n",
    "    '''\n",
    "    ap, width, height = [], [], []\n",
    "    for i in np.arange(len(filt)):\n",
    "        w0, h0 = ifu_w/pixel_scale, ifu_h/pixel_scale\n",
    "        if (ifu_h < 2*fwhm[i]):\n",
    "            w0 *= (2*fwhm[i] / ifu_h)\n",
    "            h0 *= (2*fwhm[i] / ifu_h)\n",
    "        ap.append(RAp((px-1, py-1), w=w0, h=h0, theta=(gpa-wcs_angle)*np.pi/180.))\n",
    "        width.append(w0)\n",
    "        height.append(h0)\n",
    "\n",
    "    if calc_sky:\n",
    "        an = RAn((px-1, py-1), w_in=w_in, w_out=w_out,\n",
    "                 h_in=h_in, h_out=h_out, theta=(gpa-wcs_angle)*np.pi/180.)\n",
    "        return [ap, width, height, an]\n",
    "    \n",
    "    else:\n",
    "        return [ap, width, height]\n",
    "\n",
    "calc_sky = True\n",
    "w_in, w_out = ifu_w/pixel_scale+10, ifu_w/pixel_scale+60\n",
    "h_in, h_out = ifu_h/pixel_scale+10, ifu_h/pixel_scale+60\n",
    "ap, width, height, an = make_aperture(calc_sky=calc_sky, w_in=w_in, w_out=w_out, h_in=h_in, h_out=h_out)"
   ]
  },
  {
   "cell_type": "code",
   "execution_count": 8,
   "metadata": {
    "tags": []
   },
   "outputs": [
    {
     "data": {
      "application/vnd.jupyter.widget-view+json": {
       "model_id": "6bbc25f48b2a44059f5cd424ff25548a",
       "version_major": 2,
       "version_minor": 0
      },
      "text/plain": [
       "Canvas(toolbar=Toolbar(toolitems=[('Home', 'Reset original view', 'home', 'home'), ('Back', 'Back to previous …"
      ]
     },
     "metadata": {},
     "output_type": "display_data"
    }
   ],
   "source": [
    "# Showing the FOV aperture\n",
    "def plot_aperture(out, directory, imglist, rth, vmin=-0.01, vmax=0.09):\n",
    "    fig, ax = plt.subplots(1, len(imglist), figsize=(len(imglist)*4, 4))\n",
    "    for i in np.arange(len(imglist)):\n",
    "        dat = fits.getdata(directory+imglist[i], ext=0, header=False)\n",
    "        ax[i].imshow(dat[int(py-1-rth):int(py-1+rth), int(px-1-rth):int(px-1+rth)],\n",
    "                     origin=\"lower\", cmap=\"gray_r\", vmin=vmin, vmax=vmax)\n",
    "        ax[i].tick_params(labelleft=False, labelbottom=False)\n",
    "        \n",
    "        ap_plt0 = RAp((px-1-int(px-1-rth), py-1-int(py-1-rth)),\n",
    "                      w=ifu_w/pixel_scale, h=ifu_h/pixel_scale, theta=(gpa-wcs_angle)*np.pi/180.)\n",
    "        ap_patches = ap_plt0.plot(axes=ax[i], color=\"red\", lw=1.5, ls=\"-\")\n",
    "        \n",
    "        if (ifu_h < 2*fwhm[i]):\n",
    "            ap_plt = RAp((px-1-int(px-1-rth), py-1-int(py-1-rth)),\n",
    "                         w=width[i], h=height[i], theta=(gpa-wcs_angle)*np.pi/180.)\n",
    "            ap_patches = ap_plt.plot(axes=ax[i], color=\"green\", lw=2.0, ls=\"-\")\n",
    "\n",
    "        if calc_sky:\n",
    "            an_plt = RAn((px-1-int(px-1-rth), py-1-int(py-1-rth)),\n",
    "                         w_in=w_in, w_out=w_out, h_in=h_in, h_out=h_out,\n",
    "                         theta=(gpa-wcs_angle)*np.pi/180.)\n",
    "            an_patches = an_plt.plot(axes=ax[i], color=\"magenta\", lw=1.5, ls=\"--\", alpha=0.7)\n",
    "\n",
    "        ax[i].text(0.05, 0.95, filt[i], fontsize=20.0, fontweight=\"bold\", color=\"black\",\n",
    "                   ha=\"left\", va=\"top\", transform=ax[i].transAxes)\n",
    "\n",
    "        c0 = plt.Circle((0.15*dat[int(py-1-rth):int(py-1+rth), int(px-1-rth):int(px-1+rth)].shape[1],\n",
    "                         0.30*dat[int(py-1-rth):int(py-1+rth), int(px-1-rth):int(px-1+rth)].shape[0]),\n",
    "                        radius=fwhm[i]/pixel_scale/2, color='blue', fill=True, ls='-', lw=1.5, alpha=0.5)\n",
    "        ax[i].add_patch(c0)\n",
    "\n",
    "        if (i == 0):\n",
    "            ax[i].text(0.05, 0.05, f\"5 arcsec = {5*kpc_per_arcsec:.2f} kpc\", fontsize=15.0, fontweight=\"bold\", color=\"blueviolet\",\n",
    "                       ha=\"left\", va=\"bottom\", transform=ax[i].transAxes)\n",
    "        \n",
    "    plt.tight_layout()\n",
    "    plt.savefig(out, dpi=300)        \n",
    "\n",
    "plot_aperture(\"check_HST_ACS.png\", diH, imglist, rth=150, vmin=-0.01, vmax=0.09)"
   ]
  },
  {
   "cell_type": "code",
   "execution_count": 9,
   "metadata": {},
   "outputs": [
    {
     "data": {
      "text/plain": [
       "array([('F435W', 196.83694, 179.06187,  98.59357, 14000., 0.0002111 , 15498., 0.00257525,  95.63816, 20.605963, 0.00156199),\n",
       "       ('F606W', 196.83694, 179.06187, 354.26303, 14000., 0.00072152, 15498., 0.00375739, 344.16174, 20.084124, 0.00067724),\n",
       "       ('F814W', 196.83694, 179.06187, 252.39742, 14000., 0.0005519 , 15498., 0.00286566, 244.67088, 19.92859 , 0.0006197 )],\n",
       "      dtype=[('id', '<U5'), ('x', '<f4'), ('y', '<f4'), ('aperture_sum', '<f4'), ('area_ap', '<f4'), ('msky', '<f8'), ('nsky', '<f4'), ('sky_sigma', '<f8'), ('source_sum', '<f4'), ('mag', '<f4'), ('merr', '<f4')])"
      ]
     },
     "execution_count": 9,
     "metadata": {},
     "output_type": "execute_result"
    }
   ],
   "source": [
    "# Aperture photometry for the IFU FOV\n",
    "def run_photometry(directory, imglist):\n",
    "    cols = [('id','U5'), ('x','<f4'), ('y','<f4'), \n",
    "            ('aperture_sum','<f4'), ('area_ap','<f4'),\n",
    "            ('msky','<f8'), ('nsky','<f4'), ('sky_sigma','<f8'),\n",
    "            ('source_sum','<f4'), ('mag','<f4'), ('merr','<f4')]\n",
    "    phot_table = np.zeros(len(imglist), dtype=cols)\n",
    "\n",
    "    for i in np.arange(len(imglist)):\n",
    "        data, head = fits.getdata(directory+imglist[i], header=True, ext=0)\n",
    "        zmag, gain, exptime, itime = head['MAGZERO'], head['CCDGAIN'], head['EXPTIME'], 1.0\n",
    "\n",
    "        # Aperture photometry\n",
    "        phot = apphot(data=data, apertures=ap[i])\n",
    "        phot_table['id'][i] = filt[i]\n",
    "        phot_table['x'][i], phot_table['y'][i] = phot['xcenter'].data[0], phot['ycenter'].data[0]\n",
    "        phot_table['aperture_sum'][i] = phot['aperture_sum'].data[0]\n",
    "        phot_table['area_ap'][i] = ap[i].area\n",
    "\n",
    "        # Local sky estimation\n",
    "        if calc_sky:\n",
    "            sky_mask = an.to_mask(method='center')\n",
    "            sky_vals = sky_mask.multiply(data)\n",
    "            skyv = sky_vals[sky_vals != 0.]\n",
    "            nsky = np.sum(sky_vals != 0.)\n",
    "            avg, med, std = sigma_clipped_stats(skyv, sigma=2.5, maxiters=10, std_ddof=1)\n",
    "            if med - avg < 0.3 * std:\n",
    "                msky = med\n",
    "            else:\n",
    "                msky = 2.5 * med - 1.5 * avg\n",
    "\n",
    "        # Magitude calculation\n",
    "        src_sum = phot['aperture_sum'].data[0] - ap[i].area*msky\n",
    "        nflx = src_sum / itime\n",
    "        tflx = nflx * exptime\n",
    "        mag = zmag - 2.5*np.log10(nflx) - Amag[i]\n",
    "        err = np.sqrt(tflx/gain + ap[i].area*std**2. + (ap[i].area**2. * std**2.)/nsky)\n",
    "\n",
    "        phot_table['msky'][i], phot_table['nsky'][i], phot_table['sky_sigma'][i] = msky, nsky, std\n",
    "        phot_table['source_sum'][i], phot_table['mag'][i], phot_table['merr'][i] = src_sum, mag, (2.5/np.log(10.0)) * (err/tflx)\n",
    "    \n",
    "    return phot_table\n",
    "\n",
    "phot_table = run_photometry(diH, imglist)\n",
    "phot_table"
   ]
  },
  {
   "cell_type": "code",
   "execution_count": 10,
   "metadata": {},
   "outputs": [],
   "source": [
    "# Saving the results\n",
    "m_AB_HST_ACS, e_m_AB_HST_ACS = phot_table['mag'], phot_table['merr']"
   ]
  },
  {
   "cell_type": "markdown",
   "metadata": {},
   "source": [
    "### Aperture photometry for HST/WFC3-IR images"
   ]
  },
  {
   "cell_type": "code",
   "execution_count": 11,
   "metadata": {},
   "outputs": [],
   "source": [
    "# Basic information\n",
    "diH = \"/data/jlee/DATA/HLA/McPartland+16/MACS1752/JFG2/Phot/\"\n",
    "imglist = [\"110_ori.fits\", \"140_ori.fits\"]\n",
    "filt = [\"F110W\", \"F140W\"]\n",
    "Amag = [0.027, 0.018]    # mag\n",
    "fwhm = [0.2, 0.2]    # arcsec\n",
    "pixel_scale = 0.05    # arcsec/pixel\n",
    "wcs_angle = 0.029572035    # deg from DS9 box region"
   ]
  },
  {
   "cell_type": "code",
   "execution_count": 12,
   "metadata": {},
   "outputs": [
    {
     "name": "stdout",
     "output_type": "stream",
     "text": [
      "# GMOS/IFU center\n",
      "(X, Y) = (197.8369, 180.0619)\n"
     ]
    }
   ],
   "source": [
    "# WCS XY conversion for HST images\n",
    "h = fits.getheader(diH+imglist[1], ext=0)\n",
    "w = wcs.WCS(h)\n",
    "px, py = w.wcs_world2pix(gra, gdec, 1)\n",
    "print(\"# GMOS/IFU center\")\n",
    "print(f\"(X, Y) = ({px:.4f}, {py:.4f})\")"
   ]
  },
  {
   "cell_type": "code",
   "execution_count": 13,
   "metadata": {},
   "outputs": [],
   "source": [
    "# Creating the FOV aperture\n",
    "calc_sky = True\n",
    "w_in, w_out = ifu_w/pixel_scale+10, ifu_w/pixel_scale+60\n",
    "h_in, h_out = ifu_h/pixel_scale+10, ifu_h/pixel_scale+60\n",
    "ap, width, height, an = make_aperture(calc_sky=calc_sky, w_in=w_in, w_out=w_out, h_in=h_in, h_out=h_out)"
   ]
  },
  {
   "cell_type": "code",
   "execution_count": 14,
   "metadata": {},
   "outputs": [
    {
     "data": {
      "application/vnd.jupyter.widget-view+json": {
       "model_id": "61424dc8ccc14a95827871cfa1484c0c",
       "version_major": 2,
       "version_minor": 0
      },
      "text/plain": [
       "Canvas(toolbar=Toolbar(toolitems=[('Home', 'Reset original view', 'home', 'home'), ('Back', 'Back to previous …"
      ]
     },
     "metadata": {},
     "output_type": "display_data"
    }
   ],
   "source": [
    "# Showing the FOV aperture\n",
    "plot_aperture(\"check_HST_WFC3_IR.png\", diH, imglist, rth=150, vmin=-0.01, vmax=0.20)"
   ]
  },
  {
   "cell_type": "code",
   "execution_count": 15,
   "metadata": {},
   "outputs": [
    {
     "data": {
      "text/plain": [
       "array([('F110W', 196.83694, 179.06187, 607.3199 , 14000., -0.00043788, 15498., 0.00503996, 613.45026, 19.825674, 0.00104352),\n",
       "       ('F140W', 196.83694, 179.06187, 459.18646, 14000., -0.00128053, 15498., 0.00417098, 477.11383, 19.737762, 0.00118326)],\n",
       "      dtype=[('id', '<U5'), ('x', '<f4'), ('y', '<f4'), ('aperture_sum', '<f4'), ('area_ap', '<f4'), ('msky', '<f8'), ('nsky', '<f4'), ('sky_sigma', '<f8'), ('source_sum', '<f4'), ('mag', '<f4'), ('merr', '<f4')])"
      ]
     },
     "execution_count": 15,
     "metadata": {},
     "output_type": "execute_result"
    }
   ],
   "source": [
    "# Aperture photometry for the IFU FOV\n",
    "phot_table = run_photometry(diH, imglist)\n",
    "phot_table"
   ]
  },
  {
   "cell_type": "code",
   "execution_count": 16,
   "metadata": {},
   "outputs": [],
   "source": [
    "# Saving the results\n",
    "m_AB_HST_WFC3_IR, e_m_AB_HST_WFC3_IR = phot_table['mag'], phot_table['merr']"
   ]
  },
  {
   "cell_type": "markdown",
   "metadata": {},
   "source": [
    "### Aperture photometry for GALEX images"
   ]
  },
  {
   "cell_type": "code",
   "execution_count": 17,
   "metadata": {},
   "outputs": [],
   "source": [
    "# Basic information\n",
    "diU = \"/data/jlee/DATA/HLA/McPartland+16/MACS1752/test_SED/MAST/GALEX/\"\n",
    "imglist_int = [\"fd-int.fits\", \"nd-int.fits\"]\n",
    "imglist_bgr = [\"fd-skybg.fits\", \"nd-skybg.fits\"]\n",
    "imglist_ext = [\"fd-rrhr.fits\", \"nd-rrhr.fits\"]\n",
    "filt = [\"FUV\", \"NUV\"]\n",
    "E_bv = 0.03047207    # mag\n",
    "cfac = [7.9, 8.0]    # Conversion factor (Gil de Paz+07)\n",
    "Amag = np.array(cfac)*E_bv    # mag\n",
    "# fwhm = [4.2, 5.3]    # arcsec\n",
    "fwhm = [5.3, 5.3]    # arcsec (NUV)\n",
    "pixel_scale = 1.5    # arcsec/pix\n",
    "wcs_angle = 0.00020408708    # deg from DS9 box region"
   ]
  },
  {
   "cell_type": "code",
   "execution_count": 18,
   "metadata": {},
   "outputs": [
    {
     "name": "stdout",
     "output_type": "stream",
     "text": [
      "# GMOS/IFU center\n",
      "(X, Y) = (3138.1476, 2543.3489)\n"
     ]
    }
   ],
   "source": [
    "# WCS XY conversion for HST images\n",
    "h = fits.getheader(diU+imglist_int[0], ext=0)\n",
    "w = wcs.WCS(h)\n",
    "px, py = w.wcs_world2pix(gra, gdec, 1)\n",
    "print(\"# GMOS/IFU center\")\n",
    "print(f\"(X, Y) = ({px:.4f}, {py:.4f})\")"
   ]
  },
  {
   "cell_type": "code",
   "execution_count": 19,
   "metadata": {},
   "outputs": [],
   "source": [
    "# Creating the FOV aperture\n",
    "calc_sky = False\n",
    "ap, width, height = make_aperture(calc_sky=calc_sky)"
   ]
  },
  {
   "cell_type": "code",
   "execution_count": 20,
   "metadata": {},
   "outputs": [
    {
     "data": {
      "application/vnd.jupyter.widget-view+json": {
       "model_id": "1ccae93ff24d4cb7a864b7fa39a4193f",
       "version_major": 2,
       "version_minor": 0
      },
      "text/plain": [
       "Canvas(toolbar=Toolbar(toolitems=[('Home', 'Reset original view', 'home', 'home'), ('Back', 'Back to previous …"
      ]
     },
     "metadata": {},
     "output_type": "display_data"
    }
   ],
   "source": [
    "# Showing the FOV aperture\n",
    "plot_aperture(\"check_GALEX.png\", diU, imglist_int, rth=10, vmin=0.0, vmax=0.02)"
   ]
  },
  {
   "cell_type": "code",
   "execution_count": 21,
   "metadata": {},
   "outputs": [
    {
     "data": {
      "text/plain": [
       "array([('FUV', 3137.1477, 2542.3489, 0.09503441, 69.91289, 0.00046259, 70., 2.21922226e-07, 0.09503441, 21.13457 , 0.23628151),\n",
       "       ('NUV', 3137.1477, 2542.3489, 0.45420682, 69.91289, 0.00297897, 70., 8.60833916e-07, 0.45420682, 20.693089, 0.11980917)],\n",
       "      dtype=[('id', '<U5'), ('x', '<f4'), ('y', '<f4'), ('aperture_sum', '<f4'), ('area_ap', '<f4'), ('msky', '<f8'), ('nsky', '<f4'), ('sky_sigma', '<f8'), ('source_sum', '<f4'), ('mag', '<f4'), ('merr', '<f4')])"
      ]
     },
     "execution_count": 21,
     "metadata": {},
     "output_type": "execute_result"
    }
   ],
   "source": [
    "# Aperture photometry for the IFU FOV\n",
    "cols = [('id','U5'), ('x','<f4'), ('y','<f4'), \n",
    "        ('aperture_sum','<f4'), ('area_ap','<f4'),\n",
    "        ('msky','<f8'), ('nsky','<f4'), ('sky_sigma','<f8'),\n",
    "        ('source_sum','<f4'), ('mag','<f4'), ('merr','<f4')]\n",
    "phot_table = np.zeros(len(imglist_int), dtype=cols)\n",
    "\n",
    "zeropoint = [18.82, 20.08]\n",
    "for i in np.arange(len(imglist_int)):\n",
    "    inten, hdr = fits.getdata(diU+imglist_int[i], header=True, ext=0)\n",
    "    backgr = fits.getdata(diU+imglist_bgr[i], header=False, ext=0)\n",
    "    eff_ext = fits.getdata(diU+imglist_ext[i], header=False, ext=0)\n",
    "\n",
    "    mask_arr = np.zeros_like(inten).astype('bool')\n",
    "    mask_arr[((inten == 0.) | (np.isnan(inten) == True))] = True\n",
    "\n",
    "    # Aperture photometry\n",
    "    phot = apphot(data=inten-backgr, apertures=ap[i],\n",
    "                  error=np.sqrt(inten/eff_ext), mask=mask_arr)\n",
    "    phot_table['id'][i] = filt[i]\n",
    "    phot_table['x'][i], phot_table['y'][i] = phot['xcenter'].data[0], phot['ycenter'].data[0]\n",
    "    phot_table['aperture_sum'][i] = phot['aperture_sum'].data[0]\n",
    "    phot_table['source_sum'][i] = phot_table['aperture_sum'][i]\n",
    "    phot_table['area_ap'][i] = ap[i].area\n",
    "\n",
    "    mag = zeropoint[i] - 2.5*np.log10(phot['aperture_sum'].data[0]) - Amag[i]\n",
    "    merr = (2.5/np.log(10.0)) * (phot['aperture_sum_err'].data[0]/phot['aperture_sum'].data[0])\n",
    "\n",
    "    # Local sky estimation\n",
    "    sky_mask = ap[i].to_mask(method='center')\n",
    "    sky_vals = sky_mask.multiply(backgr)\n",
    "    skyv = sky_vals[sky_vals != 0.]\n",
    "    nsky = np.sum(sky_vals != 0.)\n",
    "    avg, med, std = sigma_clipped_stats(skyv, sigma=2.5, maxiters=10, std_ddof=1)\n",
    "    if med - avg < 0.3 * std:\n",
    "        msky = med\n",
    "    else:\n",
    "        msky = 2.5 * med - 1.5 * avg\n",
    "\n",
    "    phot_table['msky'][i], phot_table['nsky'][i], phot_table['sky_sigma'][i] = msky, nsky, std\n",
    "    phot_table['mag'][i], phot_table['merr'][i] = mag, merr\n",
    "\n",
    "phot_table"
   ]
  },
  {
   "cell_type": "code",
   "execution_count": 22,
   "metadata": {},
   "outputs": [],
   "source": [
    "# Saving the results\n",
    "m_AB_GALEX, e_m_AB_GALEX = phot_table['mag'], phot_table['merr']"
   ]
  },
  {
   "cell_type": "markdown",
   "metadata": {},
   "source": [
    "### Aperture photometry for Spitzer/IRAC images"
   ]
  },
  {
   "cell_type": "code",
   "execution_count": 23,
   "metadata": {},
   "outputs": [],
   "source": [
    "# Basic information\n",
    "diS = \"/data/jlee/DATA/Spitzer/IRAC/MACS1752/r58320128/\"\n",
    "imglist_maic = sorted(glob.glob(diS+\"*/pbcd/*_maic.fits\"))\n",
    "imglist_munc = sorted(glob.glob(diS+\"*/pbcd/*_munc.fits\"))\n",
    "filt = [r\"IRAC1 $(3.6\\mu m)$\", r\"IRAC2 $(4.5\\mu m)$\"]\n",
    "Amag = [0.0, 0.0]    # mag\n",
    "fwhm = [1.95, 2.02]    # arcsec\n",
    "pixel_scale = 0.6    # arcsec/pix\n",
    "wcs_angle = 287.81478    # deg from DS9 box region"
   ]
  },
  {
   "cell_type": "code",
   "execution_count": 24,
   "metadata": {},
   "outputs": [
    {
     "name": "stdout",
     "output_type": "stream",
     "text": [
      "# GMOS/IFU center\n",
      "(X, Y) = (1217.3134, 499.8611)\n"
     ]
    }
   ],
   "source": [
    "# WCS XY conversion for HST images\n",
    "h = fits.getheader(imglist_maic[0], ext=0)\n",
    "w = wcs.WCS(h)\n",
    "px, py = w.wcs_world2pix(gra, gdec, 1)\n",
    "print(\"# GMOS/IFU center\")\n",
    "print(f\"(X, Y) = ({px:.4f}, {py:.4f})\")"
   ]
  },
  {
   "cell_type": "code",
   "execution_count": 25,
   "metadata": {},
   "outputs": [],
   "source": [
    "# Creating the FOV aperture\n",
    "calc_sky = True\n",
    "w_in, w_out = ifu_w/pixel_scale+3, ifu_w/pixel_scale+10\n",
    "h_in, h_out = ifu_h/pixel_scale+3, ifu_h/pixel_scale+10\n",
    "ap, width, height, an = make_aperture(calc_sky=calc_sky, w_in=w_in, w_out=w_out, h_in=h_in, h_out=h_out)"
   ]
  },
  {
   "cell_type": "code",
   "execution_count": 26,
   "metadata": {},
   "outputs": [
    {
     "data": {
      "application/vnd.jupyter.widget-view+json": {
       "model_id": "61f37f803609415b93972c2b75aa9b82",
       "version_major": 2,
       "version_minor": 0
      },
      "text/plain": [
       "Canvas(toolbar=Toolbar(toolitems=[('Home', 'Reset original view', 'home', 'home'), ('Back', 'Back to previous …"
      ]
     },
     "metadata": {},
     "output_type": "display_data"
    }
   ],
   "source": [
    "# Showing the FOV aperture\n",
    "plot_aperture(\"check_Spitzer_IRAC.png\", \"\", imglist_maic, rth=20, vmin=0.0, vmax=0.15)"
   ]
  },
  {
   "cell_type": "code",
   "execution_count": 27,
   "metadata": {},
   "outputs": [
    {
     "data": {
      "text/plain": [
       "array([('IRAC1', 1216.3134, 498.86115, 5.583723, 97.22222, 0.02972232, 232., 0.00431977, 2.6940532, 20.532606, 0.03924139),\n",
       "       ('IRAC2', 1216.3134, 498.86115, 9.738323, 97.22222, 0.07158738, 232., 0.0051473 , 2.778439 , 20.504128, 0.03600756)],\n",
       "      dtype=[('id', '<U5'), ('x', '<f4'), ('y', '<f4'), ('aperture_sum', '<f4'), ('area_ap', '<f4'), ('msky', '<f8'), ('nsky', '<f4'), ('sky_sigma', '<f8'), ('source_sum', '<f4'), ('mag', '<f4'), ('merr', '<f4')])"
      ]
     },
     "execution_count": 27,
     "metadata": {},
     "output_type": "execute_result"
    }
   ],
   "source": [
    "# Aperture photometry for the IFU FOV\n",
    "cols = [('id','U5'), ('x','<f4'), ('y','<f4'), \n",
    "        ('aperture_sum','<f4'), ('area_ap','<f4'),\n",
    "        ('msky','<f8'), ('nsky','<f4'), ('sky_sigma','<f8'),\n",
    "        ('source_sum','<f4'), ('mag','<f4'), ('merr','<f4')]\n",
    "phot_table = np.zeros(len(imglist_int), dtype=cols)\n",
    "\n",
    "zeropoint = [18.80, 18.32]\n",
    "flux0 = [280.9, 179.7]    # Jy\n",
    "m0_AB = 23.93    # microJy\n",
    "for i in np.arange(len(imglist_maic)):\n",
    "    dat, hdr = fits.getdata(imglist_maic[i], header=True, ext=0)\n",
    "    unc = fits.getdata(imglist_munc[i], header=False, ext=0)\n",
    "\n",
    "    # Aperture photometry\n",
    "    phot = apphot(data=dat, apertures=ap[i], error=unc)\n",
    "    phot_table['id'][i] = filt[i]\n",
    "    phot_table['x'][i], phot_table['y'][i] = phot['xcenter'].data[0], phot['ycenter'].data[0]\n",
    "    phot_table['aperture_sum'][i] = phot['aperture_sum'].data[0]\n",
    "    phot_table['area_ap'][i] = ap[i].area\n",
    "\n",
    "    # Local sky estimation\n",
    "    sky_mask = an.to_mask(method='center')\n",
    "    sky_vals = sky_mask.multiply(dat)\n",
    "    skyv = sky_vals[sky_vals != 0.]\n",
    "    nsky = np.sum(sky_vals != 0.)\n",
    "    avg, med, std = sigma_clipped_stats(skyv, sigma=2.5, maxiters=10, std_ddof=1)\n",
    "    if med - avg < 0.3 * std:\n",
    "        msky = med\n",
    "    else:\n",
    "        msky = 2.5 * med - 1.5 * avg\n",
    "\n",
    "    # Magitude calculation\n",
    "    src_sum = phot['aperture_sum'].data[0] - ap[i].area*msky\n",
    "    mag = zeropoint[i] - 2.5*np.log10(src_sum) + (m0_AB - 2.5*np.log10(flux0[i]*1.0e+6)) - Amag[i]\n",
    "    err = np.sqrt(phot['aperture_sum_err'].data[0]**2. + ap[i].area*std**2. + (ap[i].area**2. * std**2.)/nsky)\n",
    "    merr = (2.5/np.log(10.0)) * (err/src_sum)\n",
    "\n",
    "    phot_table['msky'][i], phot_table['nsky'][i], phot_table['sky_sigma'][i] = msky, nsky, std\n",
    "    phot_table['source_sum'][i], phot_table['mag'][i], phot_table['merr'][i] = src_sum, mag, merr\n",
    "\n",
    "phot_table"
   ]
  },
  {
   "cell_type": "code",
   "execution_count": 28,
   "metadata": {},
   "outputs": [],
   "source": [
    "# Saving the results\n",
    "m_AB_Spitzer, e_m_AB_Spitzer = phot_table['mag'], phot_table['merr']"
   ]
  },
  {
   "cell_type": "markdown",
   "metadata": {},
   "source": [
    "### Stacking the results & Comparing photometry"
   ]
  },
  {
   "cell_type": "code",
   "execution_count": 29,
   "metadata": {},
   "outputs": [
    {
     "data": {
      "text/plain": [
       "(array([21.13457 , 20.693089, 20.605963, 20.084124, 19.92859 , 19.825674,\n",
       "        19.737762, 20.532606, 20.504128], dtype=float32),\n",
       " array([0.23628151, 0.11980917, 0.00156199, 0.00067724, 0.0006197 ,\n",
       "        0.00104352, 0.00118326, 0.03924139, 0.03600756], dtype=float32))"
      ]
     },
     "execution_count": 29,
     "metadata": {},
     "output_type": "execute_result"
    }
   ],
   "source": [
    "m_AB = np.hstack((m_AB_GALEX, m_AB_HST_ACS, m_AB_HST_WFC3_IR, m_AB_Spitzer))\n",
    "e_m_AB = np.hstack((e_m_AB_GALEX, e_m_AB_HST_ACS, e_m_AB_HST_WFC3_IR, e_m_AB_Spitzer))\n",
    "m_AB, e_m_AB"
   ]
  },
  {
   "cell_type": "code",
   "execution_count": 30,
   "metadata": {},
   "outputs": [],
   "source": [
    "# Old photometry\n",
    "m_AB_0 = np.array([21.085, 20.626, 20.796, 20.2101, 20.0366, 19.9487, 19.8797, 20.593, 20.463])\n",
    "e_m_AB_0 = np.array([0.23, 0.118, 0.1, 0.1, 0.1, 0.1, 0.1, 0.246, 0.197])"
   ]
  },
  {
   "cell_type": "code",
   "execution_count": 31,
   "metadata": {},
   "outputs": [
    {
     "data": {
      "text/plain": [
       "array([ 0.04956917,  0.06708853, -0.19003725, -0.12597639, -0.10800923,\n",
       "       -0.12302594, -0.14193755, -0.06039388,  0.0411275 ])"
      ]
     },
     "execution_count": 31,
     "metadata": {},
     "output_type": "execute_result"
    }
   ],
   "source": [
    "m_AB - m_AB_0"
   ]
  },
  {
   "cell_type": "code",
   "execution_count": 32,
   "metadata": {},
   "outputs": [],
   "source": [
    "hd = \"HEADER\\n\"\n",
    "hd += \"(GALEX) FUV NUV\\n\"\n",
    "hd += \"(HST/ACS) F435W F606W F814W\\n\"\n",
    "hd += \"(HST/WFC3-IR) F110W F140W\\n\"\n",
    "hd += \"(Spitzer/IRAC) ch1[3.6um] ch2[4.5um]\"\n",
    "np.savetxt(\"phot_results.txt\", np.column_stack([m_AB, e_m_AB]), fmt=\"%.4f  %.4f\", header=hd)"
   ]
  },
  {
   "cell_type": "markdown",
   "metadata": {},
   "source": [
    "When reading the result file,\n",
    "```\n",
    "mag, e_mag = np.loadtxt(\"phot_results.txt\").T\n",
    "```"
   ]
  },
  {
   "cell_type": "markdown",
   "metadata": {},
   "source": [
    "### Estimation of stellar mass (w/ 3.6$\\mu{\\rm m}$ and 4.5$\\mu{\\rm m}$ flux)\n",
    "* Refer to [Eskew et al. (2012)](https://iopscience.iop.org/article/10.1088/0004-6256/143/6/139/pdf)    \n",
    "* Note that teh above literature uses the Salpeter IMF, so that the IMF calibration is needed if one uses different IMF."
   ]
  },
  {
   "cell_type": "code",
   "execution_count": 33,
   "metadata": {},
   "outputs": [],
   "source": [
    "def compute_Ms(m36, m45, lumdist, imf=0,\n",
    "               error=True, e_m36=0.1, e_m45=0.1):\n",
    "    '''\n",
    "    m36: 3.6um AB magnitude\n",
    "    m45: 4.5um AB magnitude\n",
    "    imf: type of the initial mass function (IMF)\n",
    "        0 - Salpeter 1955 IMF (default)\n",
    "        1 - Kroupa 2001 IMF\n",
    "        2 - Chabrier 2003 IMF\n",
    "    error: error propagation or not (default: True)\n",
    "    e_m36: uncertainty of 3.6um AB magnitude\n",
    "    e_m45: uncertainty of 4.5um AB magnitude\n",
    "    '''\n",
    "    f_v36 = 10.0**(-0.4*(m36 - 8.90))   # AB mag --> Jy \n",
    "    f_v45 = 10.0**(-0.4*(m45 - 8.90))   # AB mag --> Jy\n",
    "    Ms_0 = 10.0**5.65 * f_v36**2.85 * f_v45**(-1.85) * (lumdist/0.05)**2.0\n",
    "    \n",
    "    # Salpeter IMF\n",
    "    if (imf == 0):\n",
    "        Ms = Ms_0\n",
    "    \n",
    "    # Kroupa IMF\n",
    "    if (imf == 1):\n",
    "        Ms = Ms_0 * 0.626\n",
    "    \n",
    "    # Chabrier IMF\n",
    "    if (imf == 2):\n",
    "        Ms = Ms_0 * 0.542\n",
    "    \n",
    "    # Error propagation\n",
    "    if error:\n",
    "        e_f_v36 = 0.4*np.log(10)*e_m36*f_v36\n",
    "        e_f_v45 = 0.4*np.log(10)*e_m45*f_v45\n",
    "        e_Ms_0 = 10.0**5.65 * (lumdist/0.05)**2.0\n",
    "        e_Ms_0 *= np.sqrt((2.85 * f_v36**1.85 * f_v45**(-1.85) * e_f_v36)**2.0 + \\\n",
    "                          (1.85 * f_v36**2.85 * f_v45**(-2.85) * e_f_v45)**2.0)\n",
    "        \n",
    "        if (imf == 0):\n",
    "            e_Ms = e_Ms_0\n",
    "        if (imf == 1):\n",
    "            e_Ms = e_Ms_0 * 0.626\n",
    "        if (imf == 2):\n",
    "            e_Ms = e_Ms_0 * 0.542\n",
    "        \n",
    "        return [Ms, e_Ms]\n",
    "    \n",
    "    else:\n",
    "        return [Ms, None]"
   ]
  },
  {
   "cell_type": "code",
   "execution_count": 34,
   "metadata": {},
   "outputs": [
    {
     "name": "stdout",
     "output_type": "stream",
     "text": [
      "Stellar mass from NIR fluxes\n",
      "Ms = 7.200e+09 Mo +/- 2.253e+09 Mo\n",
      "log Ms/Mo = 9.857 +/- 0.136\n"
     ]
    }
   ],
   "source": [
    "Ms, e_Ms = compute_Ms(m_AB_Spitzer[0], m_AB_Spitzer[1], ldist, imf=2,\n",
    "                      error=True, e_m36=0.1, e_m45=0.1)\n",
    "print(\"Stellar mass from NIR fluxes\")\n",
    "print(f\"Ms = {Ms:.3e} Mo +/- {e_Ms:.3e} Mo\")\n",
    "print(f\"log Ms/Mo = {np.log10(Ms):.3f} +/- {e_Ms/(Ms*np.log(10.0)):.3f}\")"
   ]
  },
  {
   "cell_type": "code",
   "execution_count": null,
   "metadata": {},
   "outputs": [],
   "source": []
  }
 ],
 "metadata": {
  "kernelspec": {
   "display_name": "Python 3",
   "language": "python",
   "name": "python3"
  },
  "language_info": {
   "codemirror_mode": {
    "name": "ipython",
    "version": 3
   },
   "file_extension": ".py",
   "mimetype": "text/x-python",
   "name": "python",
   "nbconvert_exporter": "python",
   "pygments_lexer": "ipython3",
   "version": "3.7.9"
  },
  "toc-autonumbering": false,
  "toc-showmarkdowntxt": true
 },
 "nbformat": 4,
 "nbformat_minor": 4
}
