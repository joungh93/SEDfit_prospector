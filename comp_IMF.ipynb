{
 "cells": [
  {
   "cell_type": "markdown",
   "metadata": {},
   "source": [
    "## Comparing the initial mass function (IMF)"
   ]
  },
  {
   "cell_type": "markdown",
   "metadata": {},
   "source": [
    "This code will compare the mass function depending on the selection of the three IMFs: [Salpeter (1955)](http://articles.adsabs.harvard.edu/pdf/1955ApJ...121..161S), [Kroupa (2001)](http://articles.adsabs.harvard.edu/pdf/2001MNRAS.322..231K), and [Chabrier (2003)](https://iopscience.iop.org/article/10.1086/376392/pdf)"
   ]
  },
  {
   "cell_type": "markdown",
   "metadata": {},
   "source": [
    "### Packages"
   ]
  },
  {
   "cell_type": "code",
   "execution_count": 1,
   "metadata": {},
   "outputs": [],
   "source": [
    "import numpy as np\n",
    "from matplotlib import pyplot as plt\n",
    "from scipy import integrate"
   ]
  },
  {
   "cell_type": "code",
   "execution_count": 2,
   "metadata": {},
   "outputs": [],
   "source": [
    "# %matplotlib notebook\n",
    "%matplotlib widget"
   ]
  },
  {
   "cell_type": "markdown",
   "metadata": {
    "tags": [],
    "toc-hr-collapsed": true
   },
   "source": [
    "### The three IMFs\n",
    "\n",
    "The IMF formula look like the below:\n",
    "\n",
    "$dn=\\xi(m)dm$    \n",
    "($\\xi(m)$: the mass function, $m$: the mass in the unit of solar mass)\n",
    "\n",
    "* Salpeter IMF: $\\xi(m)=\\xi_{0}m^{-2.35}$\n",
    "\n",
    "* Kroupa IMF: $\\xi(m)=\\xi_{0}m^{-\\alpha}$\n",
    "\n",
    "    $\\alpha=0.3$ for $m<0.08$    \n",
    "    $\\alpha=1.3$ for $m=0.08-0.5$    \n",
    "    $\\alpha=2.3$ for $m>0.5$\n",
    "\n",
    "* Chabrier IMF:    \n",
    "    For $m<1$, $\\xi(m)=0.086\\times\\frac{1}{m~\\ln10}\\times\\exp{[-\\frac{(\\log m-\\log 0.22)^{2}}{2\\times0.57^{2}}]}$    \n",
    "    For $m>1$, $\\xi(m)=\\xi_{0}m^{-2.3}$"
   ]
  },
  {
   "cell_type": "markdown",
   "metadata": {},
   "source": [
    "### Normalizations of the IMFs\n",
    "* Intergration range: ($0.01~M_{\\odot}-\\infty$)"
   ]
  },
  {
   "cell_type": "code",
   "execution_count": 3,
   "metadata": {},
   "outputs": [],
   "source": [
    "Mmin, Mmax = 0.01, np.inf"
   ]
  },
  {
   "cell_type": "code",
   "execution_count": 4,
   "metadata": {
    "tags": []
   },
   "outputs": [
    {
     "name": "stdout",
     "output_type": "stream",
     "text": [
      "371.2498026868661 4.2672672861954197e-07\n",
      "k = 2.6936e-03\n"
     ]
    }
   ],
   "source": [
    "# ----- Normalizing the Salpeter IMF ----- #\n",
    "y, abserr = integrate.quad(lambda m: m**(-2.35), Mmin, Mmax)\n",
    "print(y, abserr)\n",
    "print(f\"k = {1. / y:.4e}\")\n",
    "k_Salpeter = 1. / y"
   ]
  },
  {
   "cell_type": "code",
   "execution_count": 5,
   "metadata": {},
   "outputs": [
    {
     "name": "stdout",
     "output_type": "stream",
     "text": [
      "1.894068328222913 8.565341547139838e-09\n",
      "6.0150605991888355 1.0211438118605483e-10\n",
      "4.673627257232486 1.4483491636472381e-11\n",
      "k = 7.9474e-02\n"
     ]
    }
   ],
   "source": [
    "# ----- Normalizing the Kroupa IMF ----- #\n",
    "\n",
    "# Range 1: [0.50 - inf]\n",
    "y1, abserr = integrate.quad(lambda m: m**(-2.3), 0.50, Mmax)\n",
    "print(y1, abserr)\n",
    "\n",
    "# Range 2: [0.08 - 0.50]\n",
    "M1 = 0.50\n",
    "Y1 = M1**(-2.3)\n",
    "y2, abserr = integrate.quad(lambda m: Y1*(m/M1)**(-1.3), 0.08, 0.50)\n",
    "print(y2, abserr)\n",
    "\n",
    "# Range 3: [0.01 - 0.08]\n",
    "M2 = 0.08\n",
    "Y2 = Y1*(M2/M1)**(-1.3)\n",
    "y3, abserr = integrate.quad(lambda m: Y2*(m/M2)**(-0.3), Mmin, 0.08)\n",
    "print(y3, abserr)\n",
    "\n",
    "print(f\"k = {1. / (y1+y2+y3):.4e}\")\n",
    "k_Kroupa = 1. / (y1+y2+y3)"
   ]
  },
  {
   "cell_type": "code",
   "execution_count": 6,
   "metadata": {},
   "outputs": [
    {
     "name": "stdout",
     "output_type": "stream",
     "text": [
      "0.7692307692307694 8.540177112501205e-16\n",
      "5.545090488390361 9.288481782370129e-10\n",
      "k = 1.5837e-01\n"
     ]
    }
   ],
   "source": [
    "# ----- Normalizing the Chabrier IMF ----- #\n",
    "y = lambda m: 0.086/(m*np.log(10.0)) * np.exp(-(np.log10(m)-np.log10(0.22))**2 / (2.0*0.57**2))\n",
    "\n",
    "# Range 1: [1.0 - inf]\n",
    "y1, abserr = integrate.quad(lambda m: m**(-2.3), 1.0, Mmax)\n",
    "print(y1, abserr)\n",
    "\n",
    "# Range 2: [0.01 - 1.0]\n",
    "M1 = 1.0\n",
    "Y1 = M1**(-2.3)\n",
    "y2, abserr = integrate.quad(lambda m: (Y1/y(M1))*y(m), Mmin, 1.0)\n",
    "print(y2, abserr)\n",
    "\n",
    "print(f\"k = {1. / (y1+y2):.4e}\")\n",
    "k_Chabrier = 1. / (y1+y2)"
   ]
  },
  {
   "cell_type": "markdown",
   "metadata": {},
   "source": [
    "### The definition of the IMFs"
   ]
  },
  {
   "cell_type": "code",
   "execution_count": 7,
   "metadata": {},
   "outputs": [],
   "source": [
    "# ----- Function definition ----- #\n",
    "\n",
    "def Salpeter_IMF(m):\n",
    "    k = k_Salpeter\n",
    "    alpha = 2.35\n",
    "    return k*m**(-alpha)\n",
    "\n",
    "\n",
    "def Kroupa_IMF(m, Mmin=Mmin):\n",
    "    k = k_Kroupa\n",
    "    M1 = 0.50\n",
    "    Y1 = M1**(-2.3)\n",
    "    M2 = 0.08\n",
    "    Y2 = Y1*(M2/M1)**(-1.3)\n",
    "    \n",
    "    if np.isscalar(m):\n",
    "        if ((m >= Mmin) & (m <= 0.08)):\n",
    "            val = k*Y2*(m/M2)**(-0.3)\n",
    "        elif ((m > 0.08) & (m <= 0.50)):\n",
    "            val = k*Y1*(m/M1)**(-1.3)\n",
    "        else:\n",
    "            val = k*m**(-2.3)\n",
    "            \n",
    "    else:\n",
    "        cnd1 = (m >= Mmin) & (m <= 0.08)\n",
    "        cnd2 = (m > 0.08) & (m <= 0.50)\n",
    "        cnd3 = (m > 0.50)\n",
    "        val = np.zeros(m.size)\n",
    "        val[cnd1] = k*Y2*(m[cnd1]/M2)**(-0.3)\n",
    "        val[cnd2] = k*Y1*(m[cnd2]/M1)**(-1.3)\n",
    "        val[cnd3] = k*m[cnd3]**(-2.3)\n",
    "    \n",
    "    return val\n",
    "\n",
    "\n",
    "def lm_imf(m):\n",
    "    return 0.086/(m*np.log(10.0)) * np.exp(-(np.log10(m)-np.log10(0.22))**2 / (2.0*0.57**2))\n",
    "\n",
    "def Chabrier_IMF(m, Mmin=Mmin):\n",
    "    k = k_Chabrier\n",
    "    alpha = 2.3\n",
    "    M1 = 1.0\n",
    "    Y1 = M1**(-2.3)\n",
    "    v0 = lm_imf(m)\n",
    "    \n",
    "    if np.isscalar(m):\n",
    "        if ((m >= Mmin) & (m <= 1.0)):\n",
    "            val = k*(Y1/lm_imf(M1))*v0\n",
    "        else:\n",
    "            val = k*m**(-alpha)\n",
    "    \n",
    "    else:\n",
    "        cnd1 = (m >= Mmin) & (m <= 1.0)\n",
    "        cnd2 = (m > 1.0)\n",
    "        val = np.zeros(m.size)\n",
    "        val[cnd1] = k*(Y1/lm_imf(M1))*v0[cnd1]\n",
    "        val[cnd2] = k*m[cnd2]**(-alpha)\n",
    "        \n",
    "    return val"
   ]
  },
  {
   "cell_type": "code",
   "execution_count": 8,
   "metadata": {},
   "outputs": [
    {
     "name": "stdout",
     "output_type": "stream",
     "text": [
      "1.0000000000000007 1.1494314389182136e-09\n",
      "0.9999999997606237 4.528815100712791e-10\n",
      "1.0000000003645921 1.447007658139654e-08\n"
     ]
    }
   ],
   "source": [
    "# Checking the integrals\n",
    "y, abserr = integrate.quad(Salpeter_IMF, Mmin, Mmax)\n",
    "print(y, abserr)\n",
    "\n",
    "y, abserr = integrate.quad(Kroupa_IMF, Mmin, Mmax)\n",
    "print(y, abserr)\n",
    "\n",
    "y, abserr = integrate.quad(Chabrier_IMF, Mmin, Mmax)\n",
    "print(y, abserr)"
   ]
  },
  {
   "cell_type": "markdown",
   "metadata": {},
   "source": [
    "### Plotting the IMFs"
   ]
  },
  {
   "cell_type": "code",
   "execution_count": 9,
   "metadata": {
    "tags": []
   },
   "outputs": [
    {
     "data": {
      "text/plain": [
       "array([1.000000e-02, 1.499995e-02, 1.999990e-02, ..., 4.999900e+02,\n",
       "       4.999950e+02, 5.000000e+02])"
      ]
     },
     "execution_count": 9,
     "metadata": {},
     "output_type": "execute_result"
    }
   ],
   "source": [
    "m_arr = np.linspace(0.01, 500, 100000)\n",
    "m_arr"
   ]
  },
  {
   "cell_type": "code",
   "execution_count": 10,
   "metadata": {},
   "outputs": [
    {
     "data": {
      "application/vnd.jupyter.widget-view+json": {
       "model_id": "0f0187200ebb424c906580f0cffa7d6e",
       "version_major": 2,
       "version_minor": 0
      },
      "text/plain": [
       "Canvas(toolbar=Toolbar(toolitems=[('Home', 'Reset original view', 'home', 'home'), ('Back', 'Back to previous …"
      ]
     },
     "metadata": {},
     "output_type": "display_data"
    }
   ],
   "source": [
    "fig, ax = plt.subplots()\n",
    "p1, = ax.loglog(m_arr, Salpeter_IMF(m_arr)/k_Salpeter, label=\"Salpeter (1955) IMF\")\n",
    "p2, = ax.loglog(m_arr, Kroupa_IMF(m_arr)/k_Kroupa, label=\"Kroupa (2001) IMF\")\n",
    "p3, = ax.loglog(m_arr, Chabrier_IMF(m_arr)/k_Chabrier, label=\"Chabrier (2003) IMF\")\n",
    "ax.set_xlim([1.0e-2, 1.0e+2])\n",
    "ax.set_ylim([1.0e-3, 1.0e+3])\n",
    "ax.set_xlabel(r\"Mass [$M_{\\odot}$]\")\n",
    "ax.set_ylabel(\"Mass function (not normalized)\")\n",
    "ax.legend()\n",
    "plt.tight_layout()"
   ]
  },
  {
   "cell_type": "code",
   "execution_count": 11,
   "metadata": {},
   "outputs": [
    {
     "data": {
      "application/vnd.jupyter.widget-view+json": {
       "model_id": "961a3c65c87747cd862126ad5a5b8770",
       "version_major": 2,
       "version_minor": 0
      },
      "text/plain": [
       "Canvas(toolbar=Toolbar(toolitems=[('Home', 'Reset original view', 'home', 'home'), ('Back', 'Back to previous …"
      ]
     },
     "metadata": {},
     "output_type": "display_data"
    }
   ],
   "source": [
    "fig, ax = plt.subplots()\n",
    "p1, = ax.loglog(m_arr, Salpeter_IMF(m_arr), label=\"Salpeter (1955) IMF\")\n",
    "p2, = ax.loglog(m_arr, Kroupa_IMF(m_arr), label=\"Kroupa (2001) IMF\")\n",
    "p3, = ax.loglog(m_arr, Chabrier_IMF(m_arr), label=\"Chabrier (2003) IMF\")\n",
    "ax.set_xlim([1.0e-2, 1.0e+2])\n",
    "ax.set_ylim([1.0e-3, 1.0e+3])\n",
    "ax.set_xlabel(r\"Mass [$M_{\\odot}$]\")\n",
    "ax.set_ylabel(\"Mass function (normalized)\")\n",
    "ax.legend()\n",
    "plt.tight_layout()"
   ]
  },
  {
   "cell_type": "markdown",
   "metadata": {},
   "source": [
    "### Integrals with respect to mass"
   ]
  },
  {
   "cell_type": "code",
   "execution_count": 12,
   "metadata": {},
   "outputs": [
    {
     "name": "stdout",
     "output_type": "stream",
     "text": [
      "M/L = 4.818e-03\n",
      "M/L = 3.015e-03\n",
      "M/L = 2.612e-03\n"
     ]
    }
   ],
   "source": [
    "# Checking the integrals\n",
    "i = 0\n",
    "for f in [Salpeter_IMF, Kroupa_IMF, Chabrier_IMF]:\n",
    "    i += 1\n",
    "    M, abserr = integrate.quad(lambda m: m * f(m), 0.1, 100)\n",
    "    L, abserr = integrate.quad(lambda m: m**3 * f(m), 0.1, 100)\n",
    "    print(f\"M/L = {M/L:.3e}\")\n",
    "    exec(f\"ml_{i:d} = M/L\")"
   ]
  },
  {
   "cell_type": "code",
   "execution_count": 13,
   "metadata": {},
   "outputs": [
    {
     "name": "stdout",
     "output_type": "stream",
     "text": [
      "M/L (Salpeter) = 1.598 M/L (Kroupa)\n",
      "M/L (Salpeter) = 1.845 M/L (Chabrier)\n",
      "M/L (Kroupa) = 0.626 M/L (Salpeter)\n",
      "M/L (Chabrier) = 0.542 M/L (Salpeter)\n"
     ]
    }
   ],
   "source": [
    "print(f\"M/L (Salpeter) = {ml_1/ml_2:.3f} M/L (Kroupa)\")\n",
    "print(f\"M/L (Salpeter) = {ml_1/ml_3:.3f} M/L (Chabrier)\")\n",
    "print(f\"M/L (Kroupa) = {ml_2/ml_1:.3f} M/L (Salpeter)\")\n",
    "print(f\"M/L (Chabrier) = {ml_3/ml_1:.3f} M/L (Salpeter)\")"
   ]
  },
  {
   "cell_type": "code",
   "execution_count": null,
   "metadata": {},
   "outputs": [],
   "source": []
  }
 ],
 "metadata": {
  "kernelspec": {
   "display_name": "Python 3",
   "language": "python",
   "name": "python3"
  },
  "language_info": {
   "codemirror_mode": {
    "name": "ipython",
    "version": 3
   },
   "file_extension": ".py",
   "mimetype": "text/x-python",
   "name": "python",
   "nbconvert_exporter": "python",
   "pygments_lexer": "ipython3",
   "version": "3.7.9"
  },
  "toc-autonumbering": false,
  "toc-showmarkdowntxt": false
 },
 "nbformat": 4,
 "nbformat_minor": 4
}
